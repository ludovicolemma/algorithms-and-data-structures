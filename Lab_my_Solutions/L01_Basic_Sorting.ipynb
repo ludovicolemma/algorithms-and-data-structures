{
  "cells": [
    {
      "cell_type": "markdown",
      "metadata": {
        "id": "zrwfOUsI0-zA"
      },
      "source": [
        "## Basic sorting algorithms\n",
        "----"
      ]
    },
    {
      "cell_type": "markdown",
      "metadata": {
        "id": "OGwgRc6a0-zF"
      },
      "source": [
        "### Exercise: Selection Sort\n",
        "Write the function ```SelectionSort(coll)``` that returns a sorted list with the elements in *coll*. \n",
        "You have to implements Selection Sort algorithm."
      ]
    },
    {
      "cell_type": "code",
      "execution_count": null,
      "metadata": {
        "id": "5OUcJLHU0-zH"
      },
      "outputs": [],
      "source": [
        "def SelectionSort(coll):\n",
        "    for i in range(len(coll)-1):\n",
        "        minimum = i\n",
        "        for j in range(len(coll[i:])):\n",
        "            if coll[i+j] < coll[minimum]:\n",
        "                minimum = i+j\n",
        "        coll[i], coll[minimum] = coll[minimum], coll[i]\n",
        "    return coll"
      ]
    },
    {
      "cell_type": "code",
      "execution_count": null,
      "metadata": {
        "colab": {
          "base_uri": "https://localhost:8080/"
        },
        "id": "bt4tmRn60-zM",
        "outputId": "fc6d90c0-6f9e-450f-9164-128763d9d27b"
      },
      "outputs": [
        {
          "output_type": "stream",
          "name": "stdout",
          "text": [
            "[2, 2, 3, 5, 9, 10, 15, 31, 51]\n"
          ]
        }
      ],
      "source": [
        "## Check correctdness your implementation!\n",
        "\n",
        "def test_sortedness(my_list):\n",
        "    return my_list == sorted(my_list)\n",
        "\n",
        "my_list = [51, 15, 2, 5, 10, 9, 3, 31, 2]\n",
        "\n",
        "print(SelectionSort(my_list))\n",
        "\n",
        "assert test_sortedness( SelectionSort(my_list) ), \"Must be increasing!\""
      ]
    },
    {
      "cell_type": "markdown",
      "metadata": {
        "id": "hTwDEys40-zQ"
      },
      "source": [
        "### Exercise: Insertion Sort\n",
        "Write the function ```InsertionSort(coll)``` that returns a sorted list with the elements in *coll*. \n",
        "You have to implements Insertion Sort algorithm."
      ]
    },
    {
      "cell_type": "code",
      "execution_count": null,
      "metadata": {
        "id": "hFfE4DM40-zS"
      },
      "outputs": [],
      "source": [
        "def InsertionSort(coll):\n",
        "    for i in range(len(coll)):\n",
        "        first_el = coll[i]\n",
        "        j = i-1\n",
        "        while j >= 0 and coll[j] > first_el:\n",
        "            coll[j + 1] = coll[j]\n",
        "            j = j-1\n",
        "        coll[j+1] = first_el\n",
        "    return coll"
      ]
    },
    {
      "cell_type": "code",
      "execution_count": null,
      "metadata": {
        "colab": {
          "base_uri": "https://localhost:8080/"
        },
        "id": "60KN7Apk0-zU",
        "outputId": "db211c7e-0b0e-4069-97a8-0cbd91d38f9c"
      },
      "outputs": [
        {
          "output_type": "stream",
          "name": "stdout",
          "text": [
            "[2, 2, 3, 5, 9, 10, 15, 31, 51]\n"
          ]
        }
      ],
      "source": [
        "## Check correctdness your implementation!\n",
        "\n",
        "my_list = [51, 15, 2, 5, 10, 9, 3, 31, 2]\n",
        "\n",
        "print(InsertionSort(my_list))\n",
        "\n",
        "assert test_sortedness( InsertionSort(my_list) ), \"Must be increasing!\""
      ]
    },
    {
      "cell_type": "markdown",
      "metadata": {
        "id": "5-_s34cS0-zV"
      },
      "source": [
        "### Comparators\n",
        "\n",
        "You have learned that many sorting are based on comparison. \n",
        "They obtain a ordered sequence by comparing elements. \n",
        "\n",
        "It's often very useful to define our own way to compare elements. Any comparator that implies a total order \n",
        "is a good one. \n",
        "\n",
        "For example, assume you have a list of tuple. Each tuple stores information about a person. \n",
        "If you sort this list, the final ordering is *\"lexicographic\"* one. First we compare the first component, \n",
        "then the second component for tuples with the same first component, and so on.\n",
        " \n",
        "However, you may want impose your own way to order. For example, sort person by name, then increasingly by age, and so on. \n",
        "\n",
        "This is possible by implementing your own comparator and let ```.sort()``` and ```sorted()``` to use it."
      ]
    },
    {
      "cell_type": "markdown",
      "metadata": {
        "id": "awivQq8o0-zZ"
      },
      "source": [
        "### How? \n",
        "You know that comparison-based algorithms sort a sequence by comparing pairs of elements. \n",
        "Thus, a comparator is a function that takes two elements, say a and b, and compare them.\n",
        "\n",
        "The result of a comparison is a value smaller than $0$, if a must precede b in the ordering. \n",
        "The result is larger than $0$, if b must precede a. The result is $0$, if we do not care."
      ]
    },
    {
      "cell_type": "markdown",
      "metadata": {
        "id": "Bh1FmBpp0-zb"
      },
      "source": [
        "For example, we can use the following comparator to sort numbers in reverse order."
      ]
    },
    {
      "cell_type": "code",
      "execution_count": null,
      "metadata": {
        "id": "egMXkU_50-zd"
      },
      "outputs": [],
      "source": [
        "def my_cmp(a, b):\n",
        "    if a > b: return -1\n",
        "    return 1"
      ]
    },
    {
      "cell_type": "code",
      "execution_count": null,
      "metadata": {
        "id": "pbMKUJ_C0-zf"
      },
      "outputs": [],
      "source": [
        "# shorter version\n",
        "def my_cmp(a, b): \n",
        "    return b-a # a is before if larger that b"
      ]
    },
    {
      "cell_type": "markdown",
      "metadata": {
        "id": "VArsgFNB0-zg"
      },
      "source": [
        "To use our own comparator with ```.sort()``` and ```sorted()```, we have to use ```functools.cmp_to_key(cmp)```function. This converts our comparator to a function that can be used as a argument for parameter ```key```. \n"
      ]
    },
    {
      "cell_type": "code",
      "execution_count": null,
      "metadata": {
        "colab": {
          "base_uri": "https://localhost:8080/"
        },
        "id": "2XiklvI90-zi",
        "outputId": "b67e4847-fb5f-4efb-c4d3-cf76abc2a2ea"
      },
      "outputs": [
        {
          "output_type": "stream",
          "name": "stdout",
          "text": [
            "[9, 8, 7, 6, 5, 4, 3, 2, 1, 0]\n"
          ]
        }
      ],
      "source": [
        "import functools\n",
        "\n",
        "print( sorted(list(range(10)), key=functools.cmp_to_key(my_cmp)) )"
      ]
    },
    {
      "cell_type": "markdown",
      "metadata": {
        "id": "6xL0EMLd0-zk"
      },
      "source": [
        "\n",
        "------\n",
        "### Exercise: Strange orderings\n",
        "Given a list, write and test comparators to obtain the following orderings:\n",
        "- Even number precede odd ones. Even numbers are sorted in non-decreasing  order while odd ones are sorted in non-increasing order.\n",
        "- Strings are sorted in non-increasing order based on their lengths. Strings having the same length are sorted in non-increasing lexicographic order. "
      ]
    },
    {
      "cell_type": "code",
      "execution_count": null,
      "metadata": {
        "id": "8zJsqSXm0-zl"
      },
      "outputs": [],
      "source": [
        "my_list = list(range(10))\n",
        "my_list2 = [\"a\", \"b\", \"aba\", \"cad\", \"zzwz\", \"zzzz\", 'adc', \"fv\", 'vf', \"aaaa\"]"
      ]
    },
    {
      "cell_type": "code",
      "execution_count": null,
      "metadata": {
        "colab": {
          "base_uri": "https://localhost:8080/"
        },
        "id": "9ZkxL_Me0-zm",
        "outputId": "6f8e6a73-6ce5-4c8f-d2da-59e53095bd27"
      },
      "outputs": [
        {
          "output_type": "stream",
          "name": "stdout",
          "text": [
            "[0, 2, 4, 6, 8, 9, 7, 5, 3, 1]\n",
            "['zzzz', 'zzwz', 'aaaa', 'cad', 'adc', 'aba', 'vf', 'fv', 'b', 'a']\n",
            "[0, 2, 4, 6, 8, 9, 7, 5, 3, 1]\n",
            "['zzzz', 'zzwz', 'aaaa', 'cad', 'adc', 'aba', 'vf', 'fv', 'b', 'a']\n"
          ]
        }
      ],
      "source": [
        "######################################### TEST WITH LAMBDA FUNCTIONS #########################################\n",
        "\n",
        "def Strange_EvenOdd(my_list):\n",
        "    return sorted(my_list, key=lambda x: (x % 2, x) if x % 2 == 0 else (x % 2, -x)) \n",
        "    #If \"even\" I sort them as positive number and I put the 0 remainder to be ordered first, if odd I put the 1 as first element and then the negative number so that higher absolute number are the first\n",
        "def Strange_Longer(my_list2):\n",
        "    return sorted(my_list2, key=lambda x: tuple([-len(x)]+[-ord(x[i]) for i in range(len(x))])) \n",
        "    #for corner cases like [\"zzwz\", \"zzzz\"] I came up with a tuple for each of the characters' ASCII values\n",
        "    \n",
        "    \n",
        "print(Strange_EvenOdd(my_list))\n",
        "print(Strange_Longer(my_list2))\n",
        "\n",
        "######################################### WORKING SOLUTIONS #########################################\n",
        "\n",
        "def cmp1(a, b):\n",
        "    if a == b:\n",
        "        return 0 #keep original order if they are the same\n",
        "\n",
        "    a_odd, b_odd = a % 2, b % 2\n",
        "    \n",
        "    if a_odd and not b_odd: #here I specify that even numbers precede odd ones\n",
        "        return 1\n",
        "    elif not a_odd and b_odd: #the same as before if the order of compared elements is inverted\n",
        "        return -1\n",
        "    elif a_odd and b_odd: # if they are both odd and the element we are considering is smaller than the one compared to keep the increasing order\n",
        "        return 1 if a < b else -1\n",
        "    \n",
        "    return -1 if a < b else 1 #if they are even and the considered element is smaller put it after the one compared to\n",
        "\n",
        "print(sorted(my_list, key = functools.cmp_to_key(cmp1)))\n",
        "\n",
        "def cmp2(a,b):\n",
        "    if len(a) == len(b):\n",
        "        return -1 if a > b else 1 #the latest letters comes first\n",
        "    \n",
        "    return -1 if len(a) > len(b) else 1 #the longest eleent comes first\n",
        "\n",
        "print(sorted(my_list2, key = functools.cmp_to_key(cmp2)))"
      ]
    },
    {
      "cell_type": "markdown",
      "metadata": {
        "id": "z75ijkJX0-zn"
      },
      "source": [
        "### Exercise: Insertion Sort with a comparator\n",
        "Write the function ```InsertionSort(coll, cmp)``` that returns a sorted list with the elements in *coll* using \n",
        "```cmp```as a comparator."
      ]
    },
    {
      "cell_type": "code",
      "execution_count": null,
      "metadata": {
        "id": "EAsqrcq00-zo"
      },
      "outputs": [],
      "source": [
        "def InsertionSort(coll, cmp):\n",
        "    for i in range(len(coll)):\n",
        "        first_el = coll[i]\n",
        "        j = i-1\n",
        "        while j >= 0 and cmp(coll[j], first_el) == 1:\n",
        "            coll[j + 1] = coll[j]\n",
        "            j = j-1\n",
        "        coll[j+1] = first_el\n",
        "    return coll\n"
      ]
    },
    {
      "cell_type": "code",
      "execution_count": null,
      "metadata": {
        "id": "nSqDgyWn0-zp"
      },
      "outputs": [],
      "source": [
        "my_list = [51, 15, 2, 5, 10, 9, 3, 31, 2]"
      ]
    },
    {
      "cell_type": "code",
      "execution_count": null,
      "metadata": {
        "colab": {
          "base_uri": "https://localhost:8080/"
        },
        "id": "ayNNTUq50-zq",
        "outputId": "90e06f93-e1ba-40bf-f8d6-7f103664c4be"
      },
      "outputs": [
        {
          "output_type": "execute_result",
          "data": {
            "text/plain": [
              "[2, 2, 10, 51, 31, 15, 9, 5, 3]"
            ]
          },
          "metadata": {},
          "execution_count": 12
        }
      ],
      "source": [
        "InsertionSort(my_list, cmp1)"
      ]
    },
    {
      "cell_type": "code",
      "execution_count": null,
      "metadata": {
        "id": "fzHdCNsV0-zs"
      },
      "outputs": [],
      "source": [
        "## Test here your implementation by using comparators from previous exercise.\n",
        "\n",
        "def test_sortedness(my_list, cmp):\n",
        "    return InsertionSort(my_list, cmp) == sorted(my_list, key = functools.cmp_to_key(cmp))\n",
        "\n",
        "assert test_sortedness(my_list, cmp1), \"Must be sorted\"\n",
        "assert test_sortedness(my_list2, cmp2), \"Must be sorted\""
      ]
    },
    {
      "cell_type": "markdown",
      "metadata": {
        "id": "K1yYdugV0-zs"
      },
      "source": [
        "-----\n",
        "\n",
        "### Exercise: Intersection of two lists\n",
        "Write a function ```intersection_slow(l1, l2)``` which returns the intersection of the two lists l1 and l2.\n",
        "\n",
        "Use the trivial algorithms that runs in $\\Theta(|l1|\\times|l2|)$. "
      ]
    },
    {
      "cell_type": "code",
      "execution_count": null,
      "metadata": {
        "id": "zUgyQt940-zt"
      },
      "outputs": [],
      "source": [
        "def intersection_slow(first_list, second_list):\n",
        "    return [el_in_first for el_in_first in first_list for el_in_second in second_list if el_in_first == el_in_second]"
      ]
    },
    {
      "cell_type": "code",
      "execution_count": null,
      "metadata": {
        "id": "6V4ziZsu0-zu"
      },
      "outputs": [],
      "source": [
        "## Test here your implementation \n",
        "\n",
        "l1 = [3, 5, 1, 2]\n",
        "l2 = [1, 4, 6, 2]\n",
        "\n",
        "assert set(intersection_slow(l1, l2)) == set([1, 2]), \"Urca\""
      ]
    },
    {
      "cell_type": "markdown",
      "metadata": {
        "id": "piaEItg80-zv"
      },
      "source": [
        "----\n",
        "### Exercise: Faster intersection of two lists\n",
        "Write a function ```intersection(l1, l2)``` which returns the intersection of the two lists l1 and l2.\n",
        "\n",
        "Assume that both l1 and l2 are sorted!"
      ]
    },
    {
      "cell_type": "code",
      "execution_count": null,
      "metadata": {
        "id": "QIFXrgXd0-zw"
      },
      "outputs": [],
      "source": [
        "def intersection(first_list, second_list):\n",
        "    resulting_intersection = []\n",
        "    \n",
        "    for el_in_first in first_list:\n",
        "        for el_in_second in second_list:\n",
        "            if el_in_first < el_in_second:\n",
        "                break\n",
        "            if el_in_first == el_in_second:\n",
        "                resulting_intersection.append(el_in_first)\n",
        "    return resulting_intersection"
      ]
    },
    {
      "cell_type": "code",
      "execution_count": null,
      "metadata": {
        "id": "JDIgDZE30-zw"
      },
      "outputs": [],
      "source": [
        "## Test here your implementation \n",
        "\n",
        "l1 = sorted([3, 5, 1, 2])\n",
        "l2 = sorted([1, 4, 6, 2])\n",
        "\n",
        "assert set(intersection(l1, l2)) == set([1, 2]), \"Urca\""
      ]
    },
    {
      "cell_type": "markdown",
      "metadata": {
        "id": "wTNmHm8t0-zx"
      },
      "source": [
        "----\n",
        "### Exercise: You own search engine\n",
        "You are given a collection of texts and you want to build your own search engine, people at Google are already very scared!\n",
        "\n",
        "Modern search engines are based on a data structure called *Inverted Index*. \n",
        "\n",
        "Each document of the collection is assigned an identifier, starting from 0.\n",
        "An inverted index stores a list, called *inverted list*, for each term of the collection.\n",
        "The list for a term *t* contains the identifiers of all the documents containing term *t*. The list is sorted.\n",
        "\n",
        "For example,\n",
        "\n",
        "````\n",
        "C = [\"dog cat elephant monkey\",  \"dog lion tiger\", \"fish dog dog cat cow\"]\n",
        "\n",
        "````\n",
        "\n",
        "The list of term *cat* is [0,2], the list of *elephant* is [0].\n",
        "\n",
        "Given two terms, an AND query reports all the documents containing both terms. For example, \n",
        "*query(\"cat\", \"dog\"), the result is [0, 2].\n",
        "\n",
        "You goal is to implement a simple search engine. Do the following. \n",
        "\n",
        "- Given the collection, build a dictionary that maps each term to its inverted list. Observe that \n",
        "each document occurs at most once in each list. \n",
        "- Implement a function *query* which answers an AND query. "
      ]
    },
    {
      "cell_type": "code",
      "execution_count": null,
      "metadata": {
        "id": "Q60MHfvs0-zx"
      },
      "outputs": [],
      "source": [
        "def build_index(C):\n",
        "    index = {}\n",
        "\n",
        "    for idx, el in enumerate(C):\n",
        "        terms = el.split(' ')\n",
        "        \n",
        "        for term in terms:\n",
        "            try:\n",
        "                type(index[term])\n",
        "            except KeyError:\n",
        "                index[term] = []\n",
        "            index[term].append(idx)\n",
        "    \n",
        "    return index\n",
        "\n",
        "def query(index, *terms):\n",
        "    \n",
        "    def intersection_slow(first_list, second_list):\n",
        "        return [el_in_first for el_in_first in first_list for el_in_second in second_list if el_in_first == el_in_second]\n",
        "    \n",
        "    def intersection_multiple(multiple_lists):\n",
        "        if multiple_lists == []:\n",
        "            return None\n",
        "        \n",
        "        elif len(multiple_lists) == 1:\n",
        "            return multiple_lists[0]\n",
        "\n",
        "        else:\n",
        "            intersected = multiple_lists[0]\n",
        "\n",
        "            for ls in multiple_lists[1:]:\n",
        "                intersected = intersection_slow(intersected, ls)\n",
        "\n",
        "        return list(set(intersected))\n",
        "\n",
        "    to_intersect = []\n",
        "    \n",
        "    for term in terms:\n",
        "        to_intersect.append(index[term])\n",
        "    \n",
        "    return intersection_multiple(to_intersect)"
      ]
    },
    {
      "cell_type": "code",
      "execution_count": null,
      "metadata": {
        "id": "81DMwUbJ0-zy"
      },
      "outputs": [],
      "source": [
        "## Test here your implementation \n",
        "\n",
        "C = [\"dog cat elephant monkey\",  \"dog lion tiger\", \"fish dog dog cat cow\"]\n",
        "\n",
        "index = build_index(C)\n",
        "assert query(index, \"cat\", \"dog\") == [0, 2], \"Urca§\""
      ]
    }
  ],
  "metadata": {
    "kernelspec": {
      "display_name": "Python 3 (ipykernel)",
      "language": "python",
      "name": "python3"
    },
    "language_info": {
      "codemirror_mode": {
        "name": "ipython",
        "version": 3
      },
      "file_extension": ".py",
      "mimetype": "text/x-python",
      "name": "python",
      "nbconvert_exporter": "python",
      "pygments_lexer": "ipython3",
      "version": "3.8.12"
    },
    "colab": {
      "name": "L01_Basic_Sorting.ipynb",
      "provenance": [],
      "collapsed_sections": []
    }
  },
  "nbformat": 4,
  "nbformat_minor": 0
}