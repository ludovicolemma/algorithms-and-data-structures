{
  "cells": [
    {
      "cell_type": "markdown",
      "metadata": {
        "id": "LPZj9ya9ui8C"
      },
      "source": [
        "## Sorting: Applications\n",
        "\n",
        "----"
      ]
    },
    {
      "cell_type": "code",
      "execution_count": 1,
      "metadata": {
        "id": "BnJBGxt5ui8F"
      },
      "outputs": [],
      "source": [
        "## Define some function useful for testing\n",
        "import random\n",
        "\n",
        "## generate an array of n random integers up to b\n",
        "def get_random_array(n, b = 50):\n",
        "    return [random.randint(0, b) for _ in range(n)]"
      ]
    },
    {
      "cell_type": "markdown",
      "metadata": {
        "id": "t90spGSvui8G"
      },
      "source": [
        "## Priority queue in Python \n",
        "\n",
        "A **heap** is managed by using python’s inbuilt library named ```heapq```. This library has the relevant functions to carry out various operations on heap data structure. Below is a list of these functions.\n",
        "\n",
        "- ```heapify``` converts a regular list to a heap.\n",
        "- ```heappush```  adds an element to the heap without altering the current heap.\n",
        "- ```heappop``` returns (and removes) the smallest data element from the heap.\n",
        "\n",
        "A heap is not a Python's object. It's just a normal list.\n",
        "\n",
        "----\n",
        "\n",
        "\n",
        "### Create a Heap"
      ]
    },
    {
      "cell_type": "code",
      "execution_count": 2,
      "metadata": {
        "id": "o-JGoVwnui8H",
        "outputId": "564eea53-6569-4d43-d440-249b6ea04e55",
        "colab": {
          "base_uri": "https://localhost:8080/"
        }
      },
      "outputs": [
        {
          "output_type": "stream",
          "name": "stdout",
          "text": [
            "[1, 3, 5, 78, 21, 45]\n"
          ]
        }
      ],
      "source": [
        "import heapq\n",
        "\n",
        "H = [21, 1, 45, 78, 3, 5]\n",
        "\n",
        "# Use heapify to rearrange the elements\n",
        "heapq.heapify(H)\n",
        "\n",
        "print(H)"
      ]
    },
    {
      "cell_type": "markdown",
      "metadata": {
        "id": "t6da-Mhoui8I"
      },
      "source": [
        "### Inserting into a Heap"
      ]
    },
    {
      "cell_type": "code",
      "execution_count": 3,
      "metadata": {
        "id": "L3rKU5mXui8I",
        "outputId": "43ef01ec-845e-47bc-dae8-ced1ac4b855b",
        "colab": {
          "base_uri": "https://localhost:8080/"
        }
      },
      "outputs": [
        {
          "output_type": "stream",
          "name": "stdout",
          "text": [
            "[1, 3, 5, 78, 21, 45]\n",
            "[0, 3, 1, 78, 21, 45, 5]\n"
          ]
        }
      ],
      "source": [
        "print(H)\n",
        "\n",
        "heapq.heappush(H, 0)\n",
        "\n",
        "print(H)"
      ]
    },
    {
      "cell_type": "code",
      "execution_count": 4,
      "metadata": {
        "id": "bZWZZ5krui8K",
        "outputId": "5118cfa8-53df-40ba-b645-bdbe276f63b1",
        "colab": {
          "base_uri": "https://localhost:8080/"
        }
      },
      "outputs": [
        {
          "output_type": "stream",
          "name": "stdout",
          "text": [
            "[0, 3, 1, 78, 21, -1, 5]\n",
            "0\n"
          ]
        }
      ],
      "source": [
        "H[5] = -1\n",
        "print(H)\n",
        "\n",
        "m = heapq.heappop(H)\n",
        "print(m)"
      ]
    },
    {
      "cell_type": "markdown",
      "metadata": {
        "id": "AJEtzbkkui8K"
      },
      "source": [
        "We could use ```heappush``` to build a heap. However, this is slower as shown by the test below. "
      ]
    },
    {
      "cell_type": "code",
      "execution_count": 5,
      "metadata": {
        "id": "ndgpgvhaui8L"
      },
      "outputs": [],
      "source": [
        "def my_heapify(H):\n",
        "    heap = []\n",
        "    for x in H:\n",
        "        heapq.heappush(heap, x)\n",
        "    return heap"
      ]
    },
    {
      "cell_type": "code",
      "execution_count": 6,
      "metadata": {
        "id": "FUuWIqcaui8M",
        "outputId": "380d05b4-ef7c-4120-ce18-e736efe25879",
        "colab": {
          "base_uri": "https://localhost:8080/"
        }
      },
      "outputs": [
        {
          "output_type": "stream",
          "name": "stdout",
          "text": [
            "352 µs ± 68.1 µs per loop (mean ± std. dev. of 7 runs, 1000 loops each)\n",
            "1.83 ms ± 668 µs per loop (mean ± std. dev. of 7 runs, 1000 loops each)\n"
          ]
        }
      ],
      "source": [
        "a = get_random_array(10000)\n",
        "H = a[:]\n",
        "\n",
        "%timeit heapq.heapify(H)\n",
        "%timeit my_heapify(a)"
      ]
    },
    {
      "cell_type": "markdown",
      "metadata": {
        "id": "X9zXjyn6ui8N"
      },
      "source": [
        "### Removing from heap \n",
        "We can remove the smallest element from heap by using ```heappop```."
      ]
    },
    {
      "cell_type": "code",
      "execution_count": 7,
      "metadata": {
        "id": "GA8RLkKIui8N",
        "outputId": "b14815d5-7437-494e-d8fd-d646fd80f6f1",
        "colab": {
          "base_uri": "https://localhost:8080/"
        }
      },
      "outputs": [
        {
          "output_type": "stream",
          "name": "stdout",
          "text": [
            "[1, 3, 5, 78, 21, 45]\n",
            "1\n",
            "[3, 21, 5, 78, 45]\n"
          ]
        }
      ],
      "source": [
        "H = [21,1,45,78,3,5]\n",
        "\n",
        "# Use heapify to rearrange the elements\n",
        "heapq.heapify(H)\n",
        "\n",
        "\n",
        "print(H)\n",
        "m = heapq.heappop(H)\n",
        "print(m)\n",
        "print(H)"
      ]
    },
    {
      "cell_type": "code",
      "execution_count": 8,
      "metadata": {
        "id": "kFKcTyUUui8O",
        "outputId": "abcb65fb-3058-4883-fcf7-e683fc1448db",
        "colab": {
          "base_uri": "https://localhost:8080/"
        }
      },
      "outputs": [
        {
          "output_type": "stream",
          "name": "stdout",
          "text": [
            "3\n"
          ]
        }
      ],
      "source": [
        "print(H[0])"
      ]
    },
    {
      "cell_type": "markdown",
      "metadata": {
        "id": "kGoI0uoHui8P"
      },
      "source": [
        "### MAX-heap?\n"
      ]
    },
    {
      "cell_type": "code",
      "execution_count": 9,
      "metadata": {
        "id": "SQIY7B6Wui8P",
        "outputId": "d6b27363-8a14-4f75-a9e9-6d776cb0646b",
        "colab": {
          "base_uri": "https://localhost:8080/"
        }
      },
      "outputs": [
        {
          "output_type": "stream",
          "name": "stdout",
          "text": [
            "[1, 3, 5, 78, 21, 45]\n",
            "[78, 21, 45, 1, 3, 5]\n"
          ]
        }
      ],
      "source": [
        "import heapq\n",
        "minH = [21,1,45,78,3,5]\n",
        "maxH = minH[:]\n",
        "\n",
        "heapq.heapify(minH)             # for a min heap\n",
        "print(minH)\n",
        "\n",
        "heapq._heapify_max(maxH)        # for a max heap!!\n",
        "print(maxH)"
      ]
    },
    {
      "cell_type": "markdown",
      "metadata": {
        "id": "vFHInUYoui8P"
      },
      "source": [
        "If you then want to pop elements, use the following."
      ]
    },
    {
      "cell_type": "code",
      "execution_count": 10,
      "metadata": {
        "id": "3iMGlHcGui8Q",
        "colab": {
          "base_uri": "https://localhost:8080/"
        },
        "outputId": "0e6101da-10ea-454a-aad3-d363af256b16"
      },
      "outputs": [
        {
          "output_type": "stream",
          "name": "stdout",
          "text": [
            "1\n",
            "78\n"
          ]
        }
      ],
      "source": [
        "m = heapq.heappop(minH)      # pop from minheap\n",
        "print(m)\n",
        "\n",
        "m = heapq._heappop_max(maxH) # pop from maxheap\n",
        "print(m)"
      ]
    },
    {
      "cell_type": "markdown",
      "metadata": {
        "id": "0FoV2rU8ui8Q"
      },
      "source": [
        "----\n",
        "\n",
        "### Exercise: K-largest elements of a array\n",
        "\n",
        "We want to compute the K-largest elements of a array A. **Report them sorted**.\n",
        "\n",
        "There are three possible algorithms to solve this problem:\n",
        "\n",
        "\n",
        "#### Algorithm 1: Sorting\n",
        "The easiest way to solve this is by sorting the array in decreasing order and reporting the first K elements. \n",
        "\n",
        "This algorithm costs $\\Theta(n\\log n)$ time. \n",
        "\n",
        "Implement this algorithm in a function ```k_largest_sort(A, K)```and test its correctness.\n",
        "\n",
        "#### Algorithm 2: QuickSelect\n",
        "Implement the QuickSelect algorithm and use it to find the K-largest element E in the array A. Then, scan A again \n",
        "to collect the K elements larger than or equal to E. Finally, sort the collected elements.\n",
        "\n",
        "This algorithm costs $\\Theta(n + K\\log K)$ time (in expectation). \n",
        "\n",
        "Implement this algorithm in a function ```k_largest_quickselect(A, K)```and test its correctness.\n",
        "\n",
        "\n",
        "#### Algorithm 3: Heap\n",
        "You have to implement the following faster algorithm as a function ```k_largest_heap(A,K)```.\n",
        "- Scan the array from left to right and keep a min-heap. The min-heap will contain at most K elements.\n",
        "- Insert the current element into the heap, if the heap has less than K elements or the current element is larger than the minimum in the heap. If the heap has more than K elements, remove the minimum. \n",
        "- Sort the collected elements.\n",
        "\n",
        "This algorithm runs in $\\Theta(n\\log K)$ time.\n",
        "\n",
        "Implement this algorithm in a function ```k_largest_heap(A, K)```and test its correctness.\n",
        "\n",
        "\n",
        "**Compare the three solutions by varying the size of the array and the value K. Which one is the fastest?**"
      ]
    },
    {
      "cell_type": "code",
      "source": [
        "###############################################################\n",
        "####### SOLUTION USING THE PYTHON IMPLEMENTED TIM SORT ########\n",
        "###############################################################\n",
        "\n",
        "def k_largest_sort(B, K):\n",
        "    A = B[:] #copy array to avoid troubling the other algos\n",
        "    A = sorted(A)[::-1]\n",
        "    return A[:K]\n",
        "\n",
        "###############################################################\n",
        "############ SOLUTION BY IMPLEMENTING QUICK SORT ##############\n",
        "###############################################################\n",
        "\n",
        "#the previous was a little too quick compared to the quickselect thus I compared with this\n",
        "\n",
        "def k_largest_sort_quickSort(B, K):\n",
        "    def partition(A, low, high):\n",
        "        pidx = random.randint(low, high) #choosing a random index of the current array\n",
        "        A[high], A[pidx] = A[pidx], A[high] #swapping the random element chosen as pivot with the last element of the array\n",
        "        pivot = A[high] \n",
        "        i = low-1 #getting a index to track where the left hand side of the partition should end, we'll swap the next element in case we find another element pertaining to the group, so we subtract one\n",
        "      \n",
        "        for j in range(low, high): #looping across the current array\n",
        "            if A[j] >= pivot: #DESCENDING ORDER\n",
        "                i = i+1 #moving the index on the right to swap\n",
        "                A[i], A[j] = A[j], A[i] #swapping the element which should be on the left with the first element that's on the right so that each will be grouped together\n",
        "      \n",
        "        A[i+1], A[high] = A[high], A[i+1] #swapping the pivot (at last element position) with the first element of the right hand side\n",
        "        return i+1 #it returns the index to consider for the left hand side (<= pivot) of the array\n",
        "\n",
        "    def quickSort_rec(A, low, high): #it implements the divide and conquer approach\n",
        "        if low < high: #until the array is of length 1 (if low is 0 and len(A) is 1 which results in high = 0, it stops)\n",
        "            pi = partition(A, low, high) #divide the array into two sub arrays (it returns the index of the left side)\n",
        "            quickSort_rec(A, low, pi-1) #it recursively repeat on the left hand side the partition algorithm\n",
        "            quickSort_rec(A, pi+1, high) #the same on the right side\n",
        "\n",
        "    def quickSort(B):\n",
        "        A = B[:] # Copy the array just because we decided to return a sorted copy of the original array \n",
        "        quickSort_rec(A, 0, len(A)-1) #running the quicksort algorithm on the copied array\n",
        "        return A\n",
        "\n",
        "    A = quickSort(B)\n",
        "    return A[:K]"
      ],
      "metadata": {
        "id": "WZE_kwidvzxk"
      },
      "execution_count": 11,
      "outputs": []
    },
    {
      "cell_type": "code",
      "execution_count": 12,
      "metadata": {
        "id": "kUO1OSusui8Q"
      },
      "outputs": [],
      "source": [
        "###############################################################\n",
        "##### SOLUTION USING DESCENDING ORDER PARTITION FUNCTION ######\n",
        "###############################################################\n",
        "\n",
        "def k_largest_quickselect(B, K):\n",
        "    def partition(A, low, high):\n",
        "        pidx = random.randint(low, high)\n",
        "        A[high], A[pidx] = A[pidx], A[high] #swapping the random element chosen as pivot with the last element of the array\n",
        "        pivot = A[high] \n",
        "        i = low-1 #getting a index to track where the left hand side of the partition should end, we'll swap the next element in case we find another element pertaining to the group, so we subtract one\n",
        "      \n",
        "        for j in range(low, high): #looping across the current array\n",
        "            if A[j] >= pivot: ########## THE SORTING ORDER WOULD BE DESCENDING ##########\n",
        "                i = i+1 #moving the index on the right to swap\n",
        "                A[i], A[j] = A[j], A[i] #swapping the element which should be on the left with the first element that's on the right so that each will be grouped together\n",
        "      \n",
        "        A[i+1], A[high] = A[high], A[i+1] #swapping the pivot (at last element position) with the first element of the right hand side\n",
        "        return i+1 #it returns the index to consider for the left hand side (<= pivot) of the array\n",
        "    \n",
        "    def QuickSelect(A, i, low, high):\n",
        "        if low == high: #if the remaining element is 1 just return it\n",
        "            return A[low]\n",
        "\n",
        "        if low < high: #if there are elements in the current partition of the array\n",
        "            pi = partition(A, low, high) #partition it\n",
        "            k = pi - low + 1 ########## getting only the number of elements in the LEFT part of the partition (numbers higher than pivot, PIVOT included) ##########\n",
        "            if k == i: #if the number in the left is equal to the input requested (lucky), return the kth largest element\n",
        "                return A[k]\n",
        "            if k > i: ########## else if the number of elements in LEFT partition is still greater, recursively apply on the LEFT ##########\n",
        "                QuickSelect(A, i, low, pi-1)\n",
        "            else: #if the number of elements is lower than the one input move to the RIGHT partition as the kth element is there\n",
        "                QuickSelect(A, i-k, pi + 1, high)\n",
        "\n",
        "    A = B[:] #copy array to avoid troubling the other algos\n",
        "    QuickSelect(A, K, 0, len(A)-1)\n",
        "    k_largest = A[:K] ########## as the elements needed are ordered in descending order, the largest elements are always on the left ##########\n",
        "    return k_largest\n",
        "\n",
        "###############################################################\n",
        "###### SOLUTION USING ASCENDING ORDER PARTITION FUNCTION ######\n",
        "###############################################################\n",
        "\n",
        "def k_largest_quickselect_right_branches(B, K):\n",
        "    def partition(A, low, high):\n",
        "        pidx = random.randint(low, high)\n",
        "        A[high], A[pidx] = A[pidx], A[high] #swapping the random element chosen as pivot with the last element of the array\n",
        "        pivot = A[high]\n",
        "        i = low-1 #getting a index to track where the left hand side of the partition should end, we'll swap the next element in case we find another element pertaining to the group, so we subtract one\n",
        "      \n",
        "        for j in range(low, high): #looping across the current array\n",
        "            if A[j] <= pivot: ########## LOWEST ON THE LEFT, HIGHEST ON THE RIGHT ##########\n",
        "                i = i+1 #moving the index on the right to swap\n",
        "                A[i], A[j] = A[j], A[i] #swapping the element which should be on the left with the first element that's on the right so that each will be grouped together\n",
        "      \n",
        "        A[i+1], A[high] = A[high], A[i+1] #swapping the pivot (at last element position) with the first element of the right hand side\n",
        "        return i+1 #it returns the index to consider for the left hand side (<= pivot) of the array\n",
        "    \n",
        "    def QuickSelect(A, i, low, high):\n",
        "        if low == high: #if the remaining element is 1 just return it\n",
        "            return A[low]\n",
        "\n",
        "        if low < high: #if there are elements in the current partition of the array\n",
        "            pi = partition(A, low, high) #partition it\n",
        "            k = high - pi + 1 ########## getting only the number of elements in the RIGHT part of the partition (numbers higher than pivot, PIVOT included) ##########\n",
        "            if k == i: #if the number in the right is equal to the input requested (lucky), return the kth largest element\n",
        "                return A[k]\n",
        "            if k > i: ########## else if the number of elements in RIGHT partition is still greater, recursively apply on the RIGHT ##########\n",
        "                QuickSelect(A, i, pi + 1, high)\n",
        "            else: #if the number of elements is lower than the one input move to the LEFT partition as the kth element is there\n",
        "                QuickSelect(A, i-k, low, pi-1)\n",
        "\n",
        "    A = B[:] #copy array to avoid troubling the other algos\n",
        "    QuickSelect(A, K, 0, len(A)-1)\n",
        "    k_largest = A[-K:] ########## as per the ascending order now the k elements will be in the last positions of the array ##########\n",
        "    return k_largest"
      ]
    },
    {
      "cell_type": "code",
      "source": [
        "def k_largest_heap(A, K):\n",
        "\n",
        "    import heapq\n",
        "\n",
        "    k_heap = [A[i] for i in range(K)] #rebuild array with the first K elements\n",
        "    heapq.heapify(k_heap) #heapify it (min heap)\n",
        "\n",
        "    for i in range(K, len(A)): #loop in the rest of the array\n",
        "        if A[i] >= k_heap[0]: #if element-i is larger or equal than the heap top element\n",
        "            k_heap.pop(0) #delete the top element\n",
        "            k_heap.append(A[i]) #add the current element to the heap\n",
        "            heapq.heapify(k_heap) #heapify again in O(len(heap)) time\n",
        "    return k_heap"
      ],
      "metadata": {
        "id": "U2duTD7ey_4h"
      },
      "execution_count": 13,
      "outputs": []
    },
    {
      "cell_type": "code",
      "source": [
        "from tqdm.auto import tqdm\n",
        "for _ in tqdm(range(100)):\n",
        "    a = get_random_array(200, 100)\n",
        "    assert sorted(k_largest_heap(a, 10)) == sorted(a)[-10:], \"FAIL!\""
      ],
      "metadata": {
        "colab": {
          "base_uri": "https://localhost:8080/",
          "height": 49,
          "referenced_widgets": [
            "a96296b231f94a67816714b55f1968cf",
            "b7d72beeb6b14443b799f78927e5851e",
            "64ee6ab97d064c958ea018e80400b4a1",
            "2959cdfd221f4e6fbe0b6b05e78675dd",
            "f40246026aed4b9393b25a7d4ccd6a02",
            "b777422f43f245e8b1656bf96515edba",
            "99fb9cd7511946649abe915ffdba72ac",
            "df0a62212f5f460cb6481d06341af513",
            "a5808a1a768e471fb4a458e9cdbfe13e",
            "7a5cda5f26334566a92cbc74b13d16f2",
            "e8b1b1c9d4fa4cc8a0f03d4c6819a41f"
          ]
        },
        "id": "lKA1kjA51ett",
        "outputId": "0affb2fe-81ec-4d7d-c7cf-1d944d0a9640"
      },
      "execution_count": 14,
      "outputs": [
        {
          "output_type": "display_data",
          "data": {
            "text/plain": [
              "  0%|          | 0/100 [00:00<?, ?it/s]"
            ],
            "application/vnd.jupyter.widget-view+json": {
              "version_major": 2,
              "version_minor": 0,
              "model_id": "a96296b231f94a67816714b55f1968cf"
            }
          },
          "metadata": {}
        }
      ]
    },
    {
      "cell_type": "code",
      "execution_count": 15,
      "metadata": {
        "id": "ZKCCVSKDui8R",
        "colab": {
          "base_uri": "https://localhost:8080/"
        },
        "outputId": "4bda8f79-6cc6-423c-b673-8a2bda1d774a"
      },
      "outputs": [
        {
          "output_type": "stream",
          "name": "stderr",
          "text": [
            "100%|██████████| 10/10 [00:55<00:00,  5.55s/it]\n"
          ]
        }
      ],
      "source": [
        "#TESTING\n",
        "from tqdm import trange\n",
        "\n",
        "a = get_random_array(1000000, 1000000000)\n",
        "\n",
        "assert sorted(k_largest_sort(a, 10)) == sorted(a)[-10:], \"FAIL!\"\n",
        "\n",
        "for _ in trange(10): #testing multiple times to check possible errors because of random pivot initialization\n",
        "    assert sorted(k_largest_sort_quickSort(a, 10)) == sorted(a)[-10:], \"FAIL!\"\n",
        "    assert sorted(k_largest_quickselect(a, 10)) == sorted(a)[-10:], \"FAIL!\"\n",
        "    assert sorted(k_largest_quickselect_right_branches(a, 10)) == sorted(a)[-10:], \"FAIL!\"\n",
        "\n",
        "assert sorted(k_largest_heap(a, 10)) == sorted(a)[-10:], \"FAIL!\""
      ]
    },
    {
      "cell_type": "code",
      "execution_count": 16,
      "metadata": {
        "id": "6-jw4Fksui8R",
        "colab": {
          "base_uri": "https://localhost:8080/"
        },
        "outputId": "04c22082-1f9e-4567-b2ad-f39b180c37c1"
      },
      "outputs": [
        {
          "output_type": "stream",
          "name": "stdout",
          "text": [
            "4.95 ms ± 26.9 µs per loop (mean ± std. dev. of 7 runs, 100 loops each)\n",
            "2.12 s ± 261 ms per loop (mean ± std. dev. of 7 runs, 1 loop each)\n",
            "31.3 ms ± 1.83 ms per loop (mean ± std. dev. of 7 runs, 10 loops each)\n",
            "11.7 ms ± 310 µs per loop (mean ± std. dev. of 7 runs, 100 loops each)\n",
            "3.48 ms ± 80.5 µs per loop (mean ± std. dev. of 7 runs, 100 loops each)\n"
          ]
        }
      ],
      "source": [
        "a = get_random_array(50000, 100)\n",
        "K = 10\n",
        "\n",
        "%timeit k_largest_sort(a, K)\n",
        "%timeit k_largest_sort_quickSort(a, K)\n",
        "%timeit k_largest_quickselect(a, K)\n",
        "%timeit k_largest_quickselect_right_branches(a, K)\n",
        "%timeit k_largest_heap(a, K)"
      ]
    },
    {
      "cell_type": "markdown",
      "metadata": {
        "id": "3Kcg1lVRui8R"
      },
      "source": [
        "---\n",
        "\n",
        "### Exercise: compute distinct elements\n",
        "You are given a list A of elements and you want to obtain the list of distict elements in A.\n",
        "\n",
        "There are two possible algorithms to do this:\n",
        "\n",
        "- Use ```list(set(A))```\n",
        "- Sort A and then scan. Implement this as a function ```distinct(A)``` \n",
        "\n",
        "Compare these two approaches by varying the size of the array and the number of distinct elements."
      ]
    },
    {
      "cell_type": "code",
      "execution_count": 17,
      "metadata": {
        "id": "q59yC_FWui8S",
        "colab": {
          "base_uri": "https://localhost:8080/"
        },
        "outputId": "ac831e9b-9297-4636-c418-b314cccf2355"
      },
      "outputs": [
        {
          "output_type": "execute_result",
          "data": {
            "text/plain": [
              "(2, 3, 3, 3, 4, 4)"
            ]
          },
          "metadata": {},
          "execution_count": 17
        }
      ],
      "source": [
        "#A = [10, 2, 3, 3, 4, 3, 4]\n",
        "#distict(A) = [10, 2, 3, 4]\n",
        "2, 3, 3, 3, 4, 4"
      ]
    },
    {
      "cell_type": "code",
      "execution_count": 18,
      "metadata": {
        "id": "1ckCPs10ui8S"
      },
      "outputs": [],
      "source": [
        "def distinct(B):\n",
        "    A = B[:]\n",
        "    A = sorted(A)\n",
        "    A_i = 0\n",
        "\n",
        "    C = [A[0]] #putting only the first element of sorted list to a new C list\n",
        "    C_i = 0\n",
        "    while A_i <= len(A)-1:\n",
        "        if A[A_i] != C[C_i]:\n",
        "            C.append(A[A_i])\n",
        "            C_i += 1\n",
        "        A_i += 1\n",
        "    return C\n",
        "        "
      ]
    },
    {
      "cell_type": "code",
      "execution_count": 19,
      "metadata": {
        "id": "ulI9f5eQui8S"
      },
      "outputs": [],
      "source": [
        "## test your implementation\n",
        "a = get_random_array(1000)\n",
        "\n",
        "assert distinct(a) == sorted(list(set(a))), \"FAIL!\""
      ]
    },
    {
      "cell_type": "markdown",
      "metadata": {
        "id": "oQC9LV6Cui8T"
      },
      "source": [
        "## What's the fastest approach?"
      ]
    },
    {
      "cell_type": "code",
      "execution_count": 20,
      "metadata": {
        "id": "lAkG0bSNui8U"
      },
      "outputs": [],
      "source": [
        "def run_solution_performances():\n",
        "    \n",
        "    import matplotlib.pyplot as plt\n",
        "    from tqdm.auto import tqdm\n",
        "\n",
        "    n_elements = [10**n for n in range(1, 5)]\n",
        "    possible_values = [10**n for n in range(1, 5)]\n",
        "\n",
        "    list_set = list()\n",
        "    distinct_func = list()\n",
        "\n",
        "    for pv in tqdm(possible_values, desc = 'Main Loop', leave = True):\n",
        "        #print('Possible Values:', pv, '\\n#############')\n",
        "\n",
        "        lise_temp = list()\n",
        "        difu_temp = list()\n",
        "        for n in tqdm(n_elements, desc = 'Sub-Loop', leave = False):\n",
        "            #print('Length Array:', n)\n",
        "            a = get_random_array(n, pv)\n",
        "            \n",
        "            #print('list-set method:', end = ' ')\n",
        "            result = %timeit -o -q list(set(a))\n",
        "            lise_temp.append((f'{n}_array_length', result.best))\n",
        "\n",
        "            #print('distinct function:', end = ' ')\n",
        "            result = %timeit -o -q distinct(a)\n",
        "            difu_temp.append((f'{n}_array_length', result.best))\n",
        "            #print()\n",
        "\n",
        "        list_set.append((pv, dict(lise_temp)))\n",
        "        distinct_func.append((f'{pv}_possible_values', dict(difu_temp)))\n",
        "\n",
        "    fig, ax = plt.subplots(1, 4, figsize=(30,5))\n",
        "    for ax_n in range(4):\n",
        "        ax[ax_n].plot(list(list_set[ax_n][1].values()), label='List Set Method')\n",
        "        ax[ax_n].plot(list(distinct_func[ax_n][1].values()), label='Distinct Function Method')\n",
        "        ax[ax_n].set_title(f'Distinct Values allowed = {10**(ax_n+1)}')\n",
        "        ax[ax_n].set_xlabel('Array Length')\n",
        "        ax[ax_n].set_ylabel('Time required')\n",
        "        ax[ax_n].set_xticks(range(4))\n",
        "        ax[ax_n].set_xticklabels([10**n for n in range(1, 5)])\n",
        "        ax[ax_n].legend(loc=\"best\")\n",
        "    plt.suptitle('Comparing Performances', fontsize=20)\n",
        "    plt.show()"
      ]
    },
    {
      "cell_type": "code",
      "source": [
        "run_solution_performances()"
      ],
      "metadata": {
        "colab": {
          "base_uri": "https://localhost:8080/",
          "height": 402,
          "referenced_widgets": [
            "7f5eb21763b24d678fc9a91abe0a6d52",
            "1d2e02d14483404abdbe643902a2dbf9",
            "61886457e8d240edbbf60c0efceff178",
            "566a5e07b316451fa21a9bff08db6b78",
            "dd0a2d91c9bc4d4b8a71c6c751bb8b2e",
            "1ea95e1ab1014b0686c0f591c42889e4",
            "a200120329bd4e5ba8ea8c08e69b02d9",
            "65a36bb1b9db4d82a84eca1fc126150f",
            "d8c9ee2578864cde8e70641d6601d113",
            "9c21305ba11849fdbee54ee5d56fe120",
            "fa0f845ffc54461fb00d0952822797e8",
            "e113e582953343c8b98dc4ce1470b9d3",
            "b546dac9644a432ab227dab953af3725",
            "9f19ee01576d4a5c86ad2e6c3819e940",
            "da176b95ba1d42e592bc79db2b4027c6",
            "803c202c049948e6b889cc1317686a51",
            "739394f910a943eb824bd714b6c34fa9",
            "93f8dcc702b44a9baf26f1816d43c6d1",
            "7f107f0cef5c47beb4ad7b7fb1a1e5ff",
            "d31f86135a7d4b288368de509b84ca2c",
            "241bfc6eb03c498e8de4c447b3cbde84",
            "3c6a928751fd40b1b31e4cda73a4d88c",
            "a85bc22934cb45e8b2c1fac548a9f2cd",
            "e00004b9bd5743a78bf554cbcc978ccd",
            "53135899dd4b48d2b3d57141bb54a3d5",
            "9391a3240afe492281b1a72cf74e5921",
            "358dd4800ff84ca09fb782006eb89955",
            "63155792ce9d488b93dd04cf2fbf3eb6",
            "1d8f8779f1f0416b9fde2438e97cec51",
            "ef0b4d549885463585b6380e8ee068d2",
            "908320a3410f49ddb65b49506bbd994e",
            "48f3aaf7a3fd476fb9263f3d3407e5e7",
            "f6fc3cfb30344667845cd34da103303d",
            "302f3139595f439db6906f96884cbd60",
            "0eae747612724cf3bda870146370a5d1",
            "7be92591235248568292ceade9bf53e0",
            "02cb52215675492380530c651a1a45d0",
            "2d08522b16624c8398462789f8f6ed32",
            "a7f1ba37f59842c1a764e477197c0ac1",
            "dcdda4899d064b8897b533987e89b58e",
            "974b21b178244c509de13214e60ddf3f",
            "5403eb206aab420c9aea6c9a19cb656f",
            "5e399f125c7145a494d1c53b1ac89677",
            "6427c8fe64844c1aba69f4b299a39b1f",
            "9916aef56f17477a93a63e534d85f28f",
            "44a7d3626e8341358b090bd28e9abb58",
            "f04b0287b572448d8af7265304b63ec5",
            "f5b9efcc16454f859210e06b63c83554",
            "b6c4314638144469ad35c1142a0e5141",
            "e22d84ed7e0745e386267f2e4add0d8e",
            "706b0ae9fa5747ff9e9608fac5244ce0",
            "92966fce372b4cac9b691d9f855c4b59",
            "947264cbf2c844f9b3ca86e9f63d4be4",
            "cc737c73984148fe8a6a4bd6df454048",
            "925b351e0a324706b2a984fe712ad563"
          ]
        },
        "id": "_pufrpwrx5Ix",
        "outputId": "816554e4-6b71-438c-ccb3-f16a4c4f784d"
      },
      "execution_count": 21,
      "outputs": [
        {
          "output_type": "display_data",
          "data": {
            "text/plain": [
              "Main Loop:   0%|          | 0/4 [00:00<?, ?it/s]"
            ],
            "application/vnd.jupyter.widget-view+json": {
              "version_major": 2,
              "version_minor": 0,
              "model_id": "7f5eb21763b24d678fc9a91abe0a6d52"
            }
          },
          "metadata": {}
        },
        {
          "output_type": "display_data",
          "data": {
            "text/plain": [
              "Sub-Loop:   0%|          | 0/4 [00:00<?, ?it/s]"
            ],
            "application/vnd.jupyter.widget-view+json": {
              "version_major": 2,
              "version_minor": 0,
              "model_id": "e113e582953343c8b98dc4ce1470b9d3"
            }
          },
          "metadata": {}
        },
        {
          "output_type": "display_data",
          "data": {
            "text/plain": [
              "Sub-Loop:   0%|          | 0/4 [00:00<?, ?it/s]"
            ],
            "application/vnd.jupyter.widget-view+json": {
              "version_major": 2,
              "version_minor": 0,
              "model_id": "a85bc22934cb45e8b2c1fac548a9f2cd"
            }
          },
          "metadata": {}
        },
        {
          "output_type": "display_data",
          "data": {
            "text/plain": [
              "Sub-Loop:   0%|          | 0/4 [00:00<?, ?it/s]"
            ],
            "application/vnd.jupyter.widget-view+json": {
              "version_major": 2,
              "version_minor": 0,
              "model_id": "302f3139595f439db6906f96884cbd60"
            }
          },
          "metadata": {}
        },
        {
          "output_type": "display_data",
          "data": {
            "text/plain": [
              "Sub-Loop:   0%|          | 0/4 [00:00<?, ?it/s]"
            ],
            "application/vnd.jupyter.widget-view+json": {
              "version_major": 2,
              "version_minor": 0,
              "model_id": "9916aef56f17477a93a63e534d85f28f"
            }
          },
          "metadata": {}
        },
        {
          "output_type": "display_data",
          "data": {
            "text/plain": [
              "<Figure size 2160x360 with 4 Axes>"
            ],
            "image/png": "[encoded data removed]"
          },
          "metadata": {
            "needs_background": "light"
          }
        }
      ]
    },
    {
      "cell_type": "markdown",
      "metadata": {
        "id": "BaoXhqoYui8U"
      },
      "source": [
        "---\n",
        "\n",
        "### Exercise: Pareto frontier of a set of points in 2-D space (aka Skyline problem)\n",
        "We are given a set $S$ of $n$ 2D points.\n",
        "A point $(x,y)$ dominates a point $(x',y')$ iff $𝑥'\\leq 𝑥$ and $y'\\leq 𝑦$. \n",
        "Our goal is to find the set $P$ of dominating points in $S$. \n",
        "This corresponds to find the Pareto frontier (or, equivalently, the skyline). \n",
        "\n",
        "![skyline.png](data:image/png;base64,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)\n",
        "\n",
        "This problem has a lot of [applications](https://en.wikipedia.org/wiki/Multi-objective_optimization) (and [here](https://en.wikipedia.org/wiki/Pareto_efficiency)).\n",
        "\n",
        "The problem can be solved in $\\Theta(n\\log n)$ time.\n",
        "\n",
        "To find $P$ we need to sort points in $S$ by $x$ in descending order, \n",
        "and if $x$′𝑠 the same by $y$ in descending order. This takes $\\Theta(n\\log n)$ time. \n",
        "Then, we do the following.\n",
        "\n",
        "- Include first point in $P$ and remember this point as $𝑇$. \n",
        "- Iterates through the points (let $C$ current point):\n",
        "* if $C$ is dominated by $T$, then skip $C$ and go to next point;\n",
        "* Otherwise, include $C$ in $P$ and set $𝑇=𝐶$.\n",
        "\n",
        "This step can be performed in linear time.\n",
        "\n",
        "Implement the function ```pareto_frontier(S)```, which returns the pareto frontier $P$ of the points in $S$.\n"
      ]
    },
    {
      "cell_type": "code",
      "execution_count": 22,
      "metadata": {
        "id": "_2SYGaSeui8U"
      },
      "outputs": [],
      "source": [
        "def pareto_frontier(S):\n",
        "    S = sorted(S, key = lambda x: (-x[0], -x[1])) #sorting in descending order\n",
        "\n",
        "    T = S[0] #first point stored\n",
        "    P = [T] #set of Pareto frontier points\n",
        "\n",
        "    for C in S:\n",
        "        if C[0] <= T[0] and C[1] <= T[1]: #if C is dominated by T\n",
        "            continue\n",
        "        else:\n",
        "            P.append(C) #if not add to Pareto Frontier\n",
        "            T = C #and set it ase the new frontier point to compare\n",
        "    return sorted(P)"
      ]
    },
    {
      "cell_type": "code",
      "execution_count": 23,
      "metadata": {
        "id": "o2g40j9eui8U"
      },
      "outputs": [],
      "source": [
        "## Test your implementation here\n",
        "\n",
        "S = [(6, 7.5), (7, 8), (8, 7), (2, 9), (3, 9.5), (1, 10), (4, 9), (5, 8)]\n",
        "\n",
        "assert pareto_frontier(S) == [(1, 10), (3, 9.5), (4, 9), (7, 8), (8, 7)], \"Fail!\""
      ]
    }
  ],
  "metadata": {
    "kernelspec": {
      "display_name": "Python 3 (ipykernel)",
      "language": "python",
      "name": "python3"
    },
    "language_info": {
      "codemirror_mode": {
        "name": "ipython",
        "version": 3
      },
      "file_extension": ".py",
      "mimetype": "text/x-python",
      "name": "python",
      "nbconvert_exporter": "python",
      "pygments_lexer": "ipython3",
      "version": "3.9.7"
    },
    "latex_envs": {
      "LaTeX_envs_menu_present": true,
      "autoclose": false,
      "autocomplete": true,
      "bibliofile": "biblio.bib",
      "cite_by": "apalike",
      "current_citInitial": 1,
      "eqLabelWithNumbers": true,
      "eqNumInitial": 1,
      "hotkeys": {
        "equation": "Ctrl-E",
        "itemize": "Ctrl-I"
      },
      "labels_anchors": false,
      "latex_user_defs": false,
      "report_style_numbering": false,
      "user_envs_cfg": false
    },
    "varInspector": {
      "cols": {
        "lenName": 16,
        "lenType": 16,
        "lenVar": 40
      },
      "kernels_config": {
        "python": {
          "delete_cmd_postfix": "",
          "delete_cmd_prefix": "del ",
          "library": "var_list.py",
          "varRefreshCmd": "print(var_dic_list())"
        },
        "r": {
          "delete_cmd_postfix": ") ",
          "delete_cmd_prefix": "rm(",
          "library": "var_list.r",
          "varRefreshCmd": "cat(var_dic_list()) "
        }
      },
      "types_to_exclude": [
        "module",
        "function",
        "builtin_function_or_method",
        "instance",
        "_Feature"
      ],
      "window_display": false
    },
    "colab": {
      "name": "L06_Sorting_Applications_II_no_sols.ipynb",
      "provenance": [],
      "collapsed_sections": []
    },
    "widgets": {
      "application/vnd.jupyter.widget-state+json": {
        "a96296b231f94a67816714b55f1968cf": {
          "model_module": "@jupyter-widgets/controls",
          "model_name": "HBoxModel",
          "model_module_version": "1.5.0",
          "state": {
            "_dom_classes": [],
            "_model_module": "@jupyter-widgets/controls",
            "_model_module_version": "1.5.0",
            "_model_name": "HBoxModel",
            "_view_count": null,
            "_view_module": "@jupyter-widgets/controls",
            "_view_module_version": "1.5.0",
            "_view_name": "HBoxView",
            "box_style": "",
            "children": [
              "IPY_MODEL_b7d72beeb6b14443b799f78927e5851e",
              "IPY_MODEL_64ee6ab97d064c958ea018e80400b4a1",
              "IPY_MODEL_2959cdfd221f4e6fbe0b6b05e78675dd"
            ],
            "layout": "IPY_MODEL_f40246026aed4b9393b25a7d4ccd6a02"
          }
        },
        "b7d72beeb6b14443b799f78927e5851e": {
          "model_module": "@jupyter-widgets/controls",
          "model_name": "HTMLModel",
          "model_module_version": "1.5.0",
          "state": {
            "_dom_classes": [],
            "_model_module": "@jupyter-widgets/controls",
            "_model_module_version": "1.5.0",
            "_model_name": "HTMLModel",
            "_view_count": null,
            "_view_module": "@jupyter-widgets/controls",
            "_view_module_version": "1.5.0",
            "_view_name": "HTMLView",
            "description": "",
            "description_tooltip": null,
            "layout": "IPY_MODEL_b777422f43f245e8b1656bf96515edba",
            "placeholder": "​",
            "style": "IPY_MODEL_99fb9cd7511946649abe915ffdba72ac",
            "value": "100%"
          }
        },
        "64ee6ab97d064c958ea018e80400b4a1": {
          "model_module": "@jupyter-widgets/controls",
          "model_name": "FloatProgressModel",
          "model_module_version": "1.5.0",
          "state": {
            "_dom_classes": [],
            "_model_module": "@jupyter-widgets/controls",
            "_model_module_version": "1.5.0",
            "_model_name": "FloatProgressModel",
            "_view_count": null,
            "_view_module": "@jupyter-widgets/controls",
            "_view_module_version": "1.5.0",
            "_view_name": "ProgressView",
            "bar_style": "success",
            "description": "",
            "description_tooltip": null,
            "layout": "IPY_MODEL_df0a62212f5f460cb6481d06341af513",
            "max": 100,
            "min": 0,
            "orientation": "horizontal",
            "style": "IPY_MODEL_a5808a1a768e471fb4a458e9cdbfe13e",
            "value": 100
          }
        },
        "2959cdfd221f4e6fbe0b6b05e78675dd": {
          "model_module": "@jupyter-widgets/controls",
          "model_name": "HTMLModel",
          "model_module_version": "1.5.0",
          "state": {
            "_dom_classes": [],
            "_model_module": "@jupyter-widgets/controls",
            "_model_module_version": "1.5.0",
            "_model_name": "HTMLModel",
            "_view_count": null,
            "_view_module": "@jupyter-widgets/controls",
            "_view_module_version": "1.5.0",
            "_view_name": "HTMLView",
            "description": "",
            "description_tooltip": null,
            "layout": "IPY_MODEL_7a5cda5f26334566a92cbc74b13d16f2",
            "placeholder": "​",
            "style": "IPY_MODEL_e8b1b1c9d4fa4cc8a0f03d4c6819a41f",
            "value": " 100/100 [00:00&lt;00:00, 1465.22it/s]"
          }
        },
        "f40246026aed4b9393b25a7d4ccd6a02": {
          "model_module": "@jupyter-widgets/base",
          "model_name": "LayoutModel",
          "model_module_version": "1.2.0",
          "state": {
            "_model_module": "@jupyter-widgets/base",
            "_model_module_version": "1.2.0",
            "_model_name": "LayoutModel",
            "_view_count": null,
            "_view_module": "@jupyter-widgets/base",
            "_view_module_version": "1.2.0",
            "_view_name": "LayoutView",
            "align_content": null,
            "align_items": null,
            "align_self": null,
            "border": null,
            "bottom": null,
            "display": null,
            "flex": null,
            "flex_flow": null,
            "grid_area": null,
            "grid_auto_columns": null,
            "grid_auto_flow": null,
            "grid_auto_rows": null,
            "grid_column": null,
            "grid_gap": null,
            "grid_row": null,
            "grid_template_areas": null,
            "grid_template_columns": null,
            "grid_template_rows": null,
            "height": null,
            "justify_content": null,
            "justify_items": null,
            "left": null,
            "margin": null,
            "max_height": null,
            "max_width": null,
            "min_height": null,
            "min_width": null,
            "object_fit": null,
            "object_position": null,
            "order": null,
            "overflow": null,
            "overflow_x": null,
            "overflow_y": null,
            "padding": null,
            "right": null,
            "top": null,
            "visibility": null,
            "width": null
          }
        },
        "b777422f43f245e8b1656bf96515edba": {
          "model_module": "@jupyter-widgets/base",
          "model_name": "LayoutModel",
          "model_module_version": "1.2.0",
          "state": {
            "_model_module": "@jupyter-widgets/base",
            "_model_module_version": "1.2.0",
            "_model_name": "LayoutModel",
            "_view_count": null,
            "_view_module": "@jupyter-widgets/base",
            "_view_module_version": "1.2.0",
            "_view_name": "LayoutView",
            "align_content": null,
            "align_items": null,
            "align_self": null,
            "border": null,
            "bottom": null,
            "display": null,
            "flex": null,
            "flex_flow": null,
            "grid_area": null,
            "grid_auto_columns": null,
            "grid_auto_flow": null,
            "grid_auto_rows": null,
            "grid_column": null,
            "grid_gap": null,
            "grid_row": null,
            "grid_template_areas": null,
            "grid_template_columns": null,
            "grid_template_rows": null,
            "height": null,
            "justify_content": null,
            "justify_items": null,
            "left": null,
            "margin": null,
            "max_height": null,
            "max_width": null,
            "min_height": null,
            "min_width": null,
            "object_fit": null,
            "object_position": null,
            "order": null,
            "overflow": null,
            "overflow_x": null,
            "overflow_y": null,
            "padding": null,
            "right": null,
            "top": null,
            "visibility": null,
            "width": null
          }
        },
        "99fb9cd7511946649abe915ffdba72ac": {
          "model_module": "@jupyter-widgets/controls",
          "model_name": "DescriptionStyleModel",
          "model_module_version": "1.5.0",
          "state": {
            "_model_module": "@jupyter-widgets/controls",
            "_model_module_version": "1.5.0",
            "_model_name": "DescriptionStyleModel",
            "_view_count": null,
            "_view_module": "@jupyter-widgets/base",
            "_view_module_version": "1.2.0",
            "_view_name": "StyleView",
            "description_width": ""
          }
        },
        "df0a62212f5f460cb6481d06341af513": {
          "model_module": "@jupyter-widgets/base",
          "model_name": "LayoutModel",
          "model_module_version": "1.2.0",
          "state": {
            "_model_module": "@jupyter-widgets/base",
            "_model_module_version": "1.2.0",
            "_model_name": "LayoutModel",
            "_view_count": null,
            "_view_module": "@jupyter-widgets/base",
            "_view_module_version": "1.2.0",
            "_view_name": "LayoutView",
            "align_content": null,
            "align_items": null,
            "align_self": null,
            "border": null,
            "bottom": null,
            "display": null,
            "flex": null,
            "flex_flow": null,
            "grid_area": null,
            "grid_auto_columns": null,
            "grid_auto_flow": null,
            "grid_auto_rows": null,
            "grid_column": null,
            "grid_gap": null,
            "grid_row": null,
            "grid_template_areas": null,
            "grid_template_columns": null,
            "grid_template_rows": null,
            "height": null,
            "justify_content": null,
            "justify_items": null,
            "left": null,
            "margin": null,
            "max_height": null,
            "max_width": null,
            "min_height": null,
            "min_width": null,
            "object_fit": null,
            "object_position": null,
            "order": null,
            "overflow": null,
            "overflow_x": null,
            "overflow_y": null,
            "padding": null,
            "right": null,
            "top": null,
            "visibility": null,
            "width": null
          }
        },
        "a5808a1a768e471fb4a458e9cdbfe13e": {
          "model_module": "@jupyter-widgets/controls",
          "model_name": "ProgressStyleModel",
          "model_module_version": "1.5.0",
          "state": {
            "_model_module": "@jupyter-widgets/controls",
            "_model_module_version": "1.5.0",
            "_model_name": "ProgressStyleModel",
            "_view_count": null,
            "_view_module": "@jupyter-widgets/base",
            "_view_module_version": "1.2.0",
            "_view_name": "StyleView",
            "bar_color": null,
            "description_width": ""
          }
        },
        "7a5cda5f26334566a92cbc74b13d16f2": {
          "model_module": "@jupyter-widgets/base",
          "model_name": "LayoutModel",
          "model_module_version": "1.2.0",
          "state": {
            "_model_module": "@jupyter-widgets/base",
            "_model_module_version": "1.2.0",
            "_model_name": "LayoutModel",
            "_view_count": null,
            "_view_module": "@jupyter-widgets/base",
            "_view_module_version": "1.2.0",
            "_view_name": "LayoutView",
            "align_content": null,
            "align_items": null,
            "align_self": null,
            "border": null,
            "bottom": null,
            "display": null,
            "flex": null,
            "flex_flow": null,
            "grid_area": null,
            "grid_auto_columns": null,
            "grid_auto_flow": null,
            "grid_auto_rows": null,
            "grid_column": null,
            "grid_gap": null,
            "grid_row": null,
            "grid_template_areas": null,
            "grid_template_columns": null,
            "grid_template_rows": null,
            "height": null,
            "justify_content": null,
            "justify_items": null,
            "left": null,
            "margin": null,
            "max_height": null,
            "max_width": null,
            "min_height": null,
            "min_width": null,
            "object_fit": null,
            "object_position": null,
            "order": null,
            "overflow": null,
            "overflow_x": null,
            "overflow_y": null,
            "padding": null,
            "right": null,
            "top": null,
            "visibility": null,
            "width": null
          }
        },
        "e8b1b1c9d4fa4cc8a0f03d4c6819a41f": {
          "model_module": "@jupyter-widgets/controls",
          "model_name": "DescriptionStyleModel",
          "model_module_version": "1.5.0",
          "state": {
            "_model_module": "@jupyter-widgets/controls",
            "_model_module_version": "1.5.0",
            "_model_name": "DescriptionStyleModel",
            "_view_count": null,
            "_view_module": "@jupyter-widgets/base",
            "_view_module_version": "1.2.0",
            "_view_name": "StyleView",
            "description_width": ""
          }
        },
        "7f5eb21763b24d678fc9a91abe0a6d52": {
          "model_module": "@jupyter-widgets/controls",
          "model_name": "HBoxModel",
          "model_module_version": "1.5.0",
          "state": {
            "_dom_classes": [],
            "_model_module": "@jupyter-widgets/controls",
            "_model_module_version": "1.5.0",
            "_model_name": "HBoxModel",
            "_view_count": null,
            "_view_module": "@jupyter-widgets/controls",
            "_view_module_version": "1.5.0",
            "_view_name": "HBoxView",
            "box_style": "",
            "children": [
              "IPY_MODEL_1d2e02d14483404abdbe643902a2dbf9",
              "IPY_MODEL_61886457e8d240edbbf60c0efceff178",
              "IPY_MODEL_566a5e07b316451fa21a9bff08db6b78"
            ],
            "layout": "IPY_MODEL_dd0a2d91c9bc4d4b8a71c6c751bb8b2e"
          }
        },
        "1d2e02d14483404abdbe643902a2dbf9": {
          "model_module": "@jupyter-widgets/controls",
          "model_name": "HTMLModel",
          "model_module_version": "1.5.0",
          "state": {
            "_dom_classes": [],
            "_model_module": "@jupyter-widgets/controls",
            "_model_module_version": "1.5.0",
            "_model_name": "HTMLModel",
            "_view_count": null,
            "_view_module": "@jupyter-widgets/controls",
            "_view_module_version": "1.5.0",
            "_view_name": "HTMLView",
            "description": "",
            "description_tooltip": null,
            "layout": "IPY_MODEL_1ea95e1ab1014b0686c0f591c42889e4",
            "placeholder": "​",
            "style": "IPY_MODEL_a200120329bd4e5ba8ea8c08e69b02d9",
            "value": "Main Loop: 100%"
          }
        },
        "61886457e8d240edbbf60c0efceff178": {
          "model_module": "@jupyter-widgets/controls",
          "model_name": "FloatProgressModel",
          "model_module_version": "1.5.0",
          "state": {
            "_dom_classes": [],
            "_model_module": "@jupyter-widgets/controls",
            "_model_module_version": "1.5.0",
            "_model_name": "FloatProgressModel",
            "_view_count": null,
            "_view_module": "@jupyter-widgets/controls",
            "_view_module_version": "1.5.0",
            "_view_name": "ProgressView",
            "bar_style": "success",
            "description": "",
            "description_tooltip": null,
            "layout": "IPY_MODEL_65a36bb1b9db4d82a84eca1fc126150f",
            "max": 4,
            "min": 0,
            "orientation": "horizontal",
            "style": "IPY_MODEL_d8c9ee2578864cde8e70641d6601d113",
            "value": 4
          }
        },
        "566a5e07b316451fa21a9bff08db6b78": {
          "model_module": "@jupyter-widgets/controls",
          "model_name": "HTMLModel",
          "model_module_version": "1.5.0",
          "state": {
            "_dom_classes": [],
            "_model_module": "@jupyter-widgets/controls",
            "_model_module_version": "1.5.0",
            "_model_name": "HTMLModel",
            "_view_count": null,
            "_view_module": "@jupyter-widgets/controls",
            "_view_module_version": "1.5.0",
            "_view_name": "HTMLView",
            "description": "",
            "description_tooltip": null,
            "layout": "IPY_MODEL_9c21305ba11849fdbee54ee5d56fe120",
            "placeholder": "​",
            "style": "IPY_MODEL_fa0f845ffc54461fb00d0952822797e8",
            "value": " 4/4 [02:26&lt;00:00, 35.58s/it]"
          }
        },
        "dd0a2d91c9bc4d4b8a71c6c751bb8b2e": {
          "model_module": "@jupyter-widgets/base",
          "model_name": "LayoutModel",
          "model_module_version": "1.2.0",
          "state": {
            "_model_module": "@jupyter-widgets/base",
            "_model_module_version": "1.2.0",
            "_model_name": "LayoutModel",
            "_view_count": null,
            "_view_module": "@jupyter-widgets/base",
            "_view_module_version": "1.2.0",
            "_view_name": "LayoutView",
            "align_content": null,
            "align_items": null,
            "align_self": null,
            "border": null,
            "bottom": null,
            "display": null,
            "flex": null,
            "flex_flow": null,
            "grid_area": null,
            "grid_auto_columns": null,
            "grid_auto_flow": null,
            "grid_auto_rows": null,
            "grid_column": null,
            "grid_gap": null,
            "grid_row": null,
            "grid_template_areas": null,
            "grid_template_columns": null,
            "grid_template_rows": null,
            "height": null,
            "justify_content": null,
            "justify_items": null,
            "left": null,
            "margin": null,
            "max_height": null,
            "max_width": null,
            "min_height": null,
            "min_width": null,
            "object_fit": null,
            "object_position": null,
            "order": null,
            "overflow": null,
            "overflow_x": null,
            "overflow_y": null,
            "padding": null,
            "right": null,
            "top": null,
            "visibility": null,
            "width": null
          }
        },
        "1ea95e1ab1014b0686c0f591c42889e4": {
          "model_module": "@jupyter-widgets/base",
          "model_name": "LayoutModel",
          "model_module_version": "1.2.0",
          "state": {
            "_model_module": "@jupyter-widgets/base",
            "_model_module_version": "1.2.0",
            "_model_name": "LayoutModel",
            "_view_count": null,
            "_view_module": "@jupyter-widgets/base",
            "_view_module_version": "1.2.0",
            "_view_name": "LayoutView",
            "align_content": null,
            "align_items": null,
            "align_self": null,
            "border": null,
            "bottom": null,
            "display": null,
            "flex": null,
            "flex_flow": null,
            "grid_area": null,
            "grid_auto_columns": null,
            "grid_auto_flow": null,
            "grid_auto_rows": null,
            "grid_column": null,
            "grid_gap": null,
            "grid_row": null,
            "grid_template_areas": null,
            "grid_template_columns": null,
            "grid_template_rows": null,
            "height": null,
            "justify_content": null,
            "justify_items": null,
            "left": null,
            "margin": null,
            "max_height": null,
            "max_width": null,
            "min_height": null,
            "min_width": null,
            "object_fit": null,
            "object_position": null,
            "order": null,
            "overflow": null,
            "overflow_x": null,
            "overflow_y": null,
            "padding": null,
            "right": null,
            "top": null,
            "visibility": null,
            "width": null
          }
        },
        "a200120329bd4e5ba8ea8c08e69b02d9": {
          "model_module": "@jupyter-widgets/controls",
          "model_name": "DescriptionStyleModel",
          "model_module_version": "1.5.0",
          "state": {
            "_model_module": "@jupyter-widgets/controls",
            "_model_module_version": "1.5.0",
            "_model_name": "DescriptionStyleModel",
            "_view_count": null,
            "_view_module": "@jupyter-widgets/base",
            "_view_module_version": "1.2.0",
            "_view_name": "StyleView",
            "description_width": ""
          }
        },
        "65a36bb1b9db4d82a84eca1fc126150f": {
          "model_module": "@jupyter-widgets/base",
          "model_name": "LayoutModel",
          "model_module_version": "1.2.0",
          "state": {
            "_model_module": "@jupyter-widgets/base",
            "_model_module_version": "1.2.0",
            "_model_name": "LayoutModel",
            "_view_count": null,
            "_view_module": "@jupyter-widgets/base",
            "_view_module_version": "1.2.0",
            "_view_name": "LayoutView",
            "align_content": null,
            "align_items": null,
            "align_self": null,
            "border": null,
            "bottom": null,
            "display": null,
            "flex": null,
            "flex_flow": null,
            "grid_area": null,
            "grid_auto_columns": null,
            "grid_auto_flow": null,
            "grid_auto_rows": null,
            "grid_column": null,
            "grid_gap": null,
            "grid_row": null,
            "grid_template_areas": null,
            "grid_template_columns": null,
            "grid_template_rows": null,
            "height": null,
            "justify_content": null,
            "justify_items": null,
            "left": null,
            "margin": null,
            "max_height": null,
            "max_width": null,
            "min_height": null,
            "min_width": null,
            "object_fit": null,
            "object_position": null,
            "order": null,
            "overflow": null,
            "overflow_x": null,
            "overflow_y": null,
            "padding": null,
            "right": null,
            "top": null,
            "visibility": null,
            "width": null
          }
        },
        "d8c9ee2578864cde8e70641d6601d113": {
          "model_module": "@jupyter-widgets/controls",
          "model_name": "ProgressStyleModel",
          "model_module_version": "1.5.0",
          "state": {
            "_model_module": "@jupyter-widgets/controls",
            "_model_module_version": "1.5.0",
            "_model_name": "ProgressStyleModel",
            "_view_count": null,
            "_view_module": "@jupyter-widgets/base",
            "_view_module_version": "1.2.0",
            "_view_name": "StyleView",
            "bar_color": null,
            "description_width": ""
          }
        },
        "9c21305ba11849fdbee54ee5d56fe120": {
          "model_module": "@jupyter-widgets/base",
          "model_name": "LayoutModel",
          "model_module_version": "1.2.0",
          "state": {
            "_model_module": "@jupyter-widgets/base",
            "_model_module_version": "1.2.0",
            "_model_name": "LayoutModel",
            "_view_count": null,
            "_view_module": "@jupyter-widgets/base",
            "_view_module_version": "1.2.0",
            "_view_name": "LayoutView",
            "align_content": null,
            "align_items": null,
            "align_self": null,
            "border": null,
            "bottom": null,
            "display": null,
            "flex": null,
            "flex_flow": null,
            "grid_area": null,
            "grid_auto_columns": null,
            "grid_auto_flow": null,
            "grid_auto_rows": null,
            "grid_column": null,
            "grid_gap": null,
            "grid_row": null,
            "grid_template_areas": null,
            "grid_template_columns": null,
            "grid_template_rows": null,
            "height": null,
            "justify_content": null,
            "justify_items": null,
            "left": null,
            "margin": null,
            "max_height": null,
            "max_width": null,
            "min_height": null,
            "min_width": null,
            "object_fit": null,
            "object_position": null,
            "order": null,
            "overflow": null,
            "overflow_x": null,
            "overflow_y": null,
            "padding": null,
            "right": null,
            "top": null,
            "visibility": null,
            "width": null
          }
        },
        "fa0f845ffc54461fb00d0952822797e8": {
          "model_module": "@jupyter-widgets/controls",
          "model_name": "DescriptionStyleModel",
          "model_module_version": "1.5.0",
          "state": {
            "_model_module": "@jupyter-widgets/controls",
            "_model_module_version": "1.5.0",
            "_model_name": "DescriptionStyleModel",
            "_view_count": null,
            "_view_module": "@jupyter-widgets/base",
            "_view_module_version": "1.2.0",
            "_view_name": "StyleView",
            "description_width": ""
          }
        },
        "e113e582953343c8b98dc4ce1470b9d3": {
          "model_module": "@jupyter-widgets/controls",
          "model_name": "HBoxModel",
          "model_module_version": "1.5.0",
          "state": {
            "_dom_classes": [],
            "_model_module": "@jupyter-widgets/controls",
            "_model_module_version": "1.5.0",
            "_model_name": "HBoxModel",
            "_view_count": null,
            "_view_module": "@jupyter-widgets/controls",
            "_view_module_version": "1.5.0",
            "_view_name": "HBoxView",
            "box_style": "",
            "children": [
              "IPY_MODEL_b546dac9644a432ab227dab953af3725",
              "IPY_MODEL_9f19ee01576d4a5c86ad2e6c3819e940",
              "IPY_MODEL_da176b95ba1d42e592bc79db2b4027c6"
            ],
            "layout": "IPY_MODEL_803c202c049948e6b889cc1317686a51"
          }
        },
        "b546dac9644a432ab227dab953af3725": {
          "model_module": "@jupyter-widgets/controls",
          "model_name": "HTMLModel",
          "model_module_version": "1.5.0",
          "state": {
            "_dom_classes": [],
            "_model_module": "@jupyter-widgets/controls",
            "_model_module_version": "1.5.0",
            "_model_name": "HTMLModel",
            "_view_count": null,
            "_view_module": "@jupyter-widgets/controls",
            "_view_module_version": "1.5.0",
            "_view_name": "HTMLView",
            "description": "",
            "description_tooltip": null,
            "layout": "IPY_MODEL_739394f910a943eb824bd714b6c34fa9",
            "placeholder": "​",
            "style": "IPY_MODEL_93f8dcc702b44a9baf26f1816d43c6d1",
            "value": "Sub-Loop: 100%"
          }
        },
        "9f19ee01576d4a5c86ad2e6c3819e940": {
          "model_module": "@jupyter-widgets/controls",
          "model_name": "FloatProgressModel",
          "model_module_version": "1.5.0",
          "state": {
            "_dom_classes": [],
            "_model_module": "@jupyter-widgets/controls",
            "_model_module_version": "1.5.0",
            "_model_name": "FloatProgressModel",
            "_view_count": null,
            "_view_module": "@jupyter-widgets/controls",
            "_view_module_version": "1.5.0",
            "_view_name": "ProgressView",
            "bar_style": "",
            "description": "",
            "description_tooltip": null,
            "layout": "IPY_MODEL_7f107f0cef5c47beb4ad7b7fb1a1e5ff",
            "max": 4,
            "min": 0,
            "orientation": "horizontal",
            "style": "IPY_MODEL_d31f86135a7d4b288368de509b84ca2c",
            "value": 4
          }
        },
        "da176b95ba1d42e592bc79db2b4027c6": {
          "model_module": "@jupyter-widgets/controls",
          "model_name": "HTMLModel",
          "model_module_version": "1.5.0",
          "state": {
            "_dom_classes": [],
            "_model_module": "@jupyter-widgets/controls",
            "_model_module_version": "1.5.0",
            "_model_name": "HTMLModel",
            "_view_count": null,
            "_view_module": "@jupyter-widgets/controls",
            "_view_module_version": "1.5.0",
            "_view_name": "HTMLView",
            "description": "",
            "description_tooltip": null,
            "layout": "IPY_MODEL_241bfc6eb03c498e8de4c447b3cbde84",
            "placeholder": "​",
            "style": "IPY_MODEL_3c6a928751fd40b1b31e4cda73a4d88c",
            "value": " 4/4 [00:41&lt;00:00,  9.83s/it]"
          }
        },
        "803c202c049948e6b889cc1317686a51": {
          "model_module": "@jupyter-widgets/base",
          "model_name": "LayoutModel",
          "model_module_version": "1.2.0",
          "state": {
            "_model_module": "@jupyter-widgets/base",
            "_model_module_version": "1.2.0",
            "_model_name": "LayoutModel",
            "_view_count": null,
            "_view_module": "@jupyter-widgets/base",
            "_view_module_version": "1.2.0",
            "_view_name": "LayoutView",
            "align_content": null,
            "align_items": null,
            "align_self": null,
            "border": null,
            "bottom": null,
            "display": null,
            "flex": null,
            "flex_flow": null,
            "grid_area": null,
            "grid_auto_columns": null,
            "grid_auto_flow": null,
            "grid_auto_rows": null,
            "grid_column": null,
            "grid_gap": null,
            "grid_row": null,
            "grid_template_areas": null,
            "grid_template_columns": null,
            "grid_template_rows": null,
            "height": null,
            "justify_content": null,
            "justify_items": null,
            "left": null,
            "margin": null,
            "max_height": null,
            "max_width": null,
            "min_height": null,
            "min_width": null,
            "object_fit": null,
            "object_position": null,
            "order": null,
            "overflow": null,
            "overflow_x": null,
            "overflow_y": null,
            "padding": null,
            "right": null,
            "top": null,
            "visibility": null,
            "width": null
          }
        },
        "739394f910a943eb824bd714b6c34fa9": {
          "model_module": "@jupyter-widgets/base",
          "model_name": "LayoutModel",
          "model_module_version": "1.2.0",
          "state": {
            "_model_module": "@jupyter-widgets/base",
            "_model_module_version": "1.2.0",
            "_model_name": "LayoutModel",
            "_view_count": null,
            "_view_module": "@jupyter-widgets/base",
            "_view_module_version": "1.2.0",
            "_view_name": "LayoutView",
            "align_content": null,
            "align_items": null,
            "align_self": null,
            "border": null,
            "bottom": null,
            "display": null,
            "flex": null,
            "flex_flow": null,
            "grid_area": null,
            "grid_auto_columns": null,
            "grid_auto_flow": null,
            "grid_auto_rows": null,
            "grid_column": null,
            "grid_gap": null,
            "grid_row": null,
            "grid_template_areas": null,
            "grid_template_columns": null,
            "grid_template_rows": null,
            "height": null,
            "justify_content": null,
            "justify_items": null,
            "left": null,
            "margin": null,
            "max_height": null,
            "max_width": null,
            "min_height": null,
            "min_width": null,
            "object_fit": null,
            "object_position": null,
            "order": null,
            "overflow": null,
            "overflow_x": null,
            "overflow_y": null,
            "padding": null,
            "right": null,
            "top": null,
            "visibility": null,
            "width": null
          }
        },
        "93f8dcc702b44a9baf26f1816d43c6d1": {
          "model_module": "@jupyter-widgets/controls",
          "model_name": "DescriptionStyleModel",
          "model_module_version": "1.5.0",
          "state": {
            "_model_module": "@jupyter-widgets/controls",
            "_model_module_version": "1.5.0",
            "_model_name": "DescriptionStyleModel",
            "_view_count": null,
            "_view_module": "@jupyter-widgets/base",
            "_view_module_version": "1.2.0",
            "_view_name": "StyleView",
            "description_width": ""
          }
        },
        "7f107f0cef5c47beb4ad7b7fb1a1e5ff": {
          "model_module": "@jupyter-widgets/base",
          "model_name": "LayoutModel",
          "model_module_version": "1.2.0",
          "state": {
            "_model_module": "@jupyter-widgets/base",
            "_model_module_version": "1.2.0",
            "_model_name": "LayoutModel",
            "_view_count": null,
            "_view_module": "@jupyter-widgets/base",
            "_view_module_version": "1.2.0",
            "_view_name": "LayoutView",
            "align_content": null,
            "align_items": null,
            "align_self": null,
            "border": null,
            "bottom": null,
            "display": null,
            "flex": null,
            "flex_flow": null,
            "grid_area": null,
            "grid_auto_columns": null,
            "grid_auto_flow": null,
            "grid_auto_rows": null,
            "grid_column": null,
            "grid_gap": null,
            "grid_row": null,
            "grid_template_areas": null,
            "grid_template_columns": null,
            "grid_template_rows": null,
            "height": null,
            "justify_content": null,
            "justify_items": null,
            "left": null,
            "margin": null,
            "max_height": null,
            "max_width": null,
            "min_height": null,
            "min_width": null,
            "object_fit": null,
            "object_position": null,
            "order": null,
            "overflow": null,
            "overflow_x": null,
            "overflow_y": null,
            "padding": null,
            "right": null,
            "top": null,
            "visibility": null,
            "width": null
          }
        },
        "d31f86135a7d4b288368de509b84ca2c": {
          "model_module": "@jupyter-widgets/controls",
          "model_name": "ProgressStyleModel",
          "model_module_version": "1.5.0",
          "state": {
            "_model_module": "@jupyter-widgets/controls",
            "_model_module_version": "1.5.0",
            "_model_name": "ProgressStyleModel",
            "_view_count": null,
            "_view_module": "@jupyter-widgets/base",
            "_view_module_version": "1.2.0",
            "_view_name": "StyleView",
            "bar_color": null,
            "description_width": ""
          }
        },
        "241bfc6eb03c498e8de4c447b3cbde84": {
          "model_module": "@jupyter-widgets/base",
          "model_name": "LayoutModel",
          "model_module_version": "1.2.0",
          "state": {
            "_model_module": "@jupyter-widgets/base",
            "_model_module_version": "1.2.0",
            "_model_name": "LayoutModel",
            "_view_count": null,
            "_view_module": "@jupyter-widgets/base",
            "_view_module_version": "1.2.0",
            "_view_name": "LayoutView",
            "align_content": null,
            "align_items": null,
            "align_self": null,
            "border": null,
            "bottom": null,
            "display": null,
            "flex": null,
            "flex_flow": null,
            "grid_area": null,
            "grid_auto_columns": null,
            "grid_auto_flow": null,
            "grid_auto_rows": null,
            "grid_column": null,
            "grid_gap": null,
            "grid_row": null,
            "grid_template_areas": null,
            "grid_template_columns": null,
            "grid_template_rows": null,
            "height": null,
            "justify_content": null,
            "justify_items": null,
            "left": null,
            "margin": null,
            "max_height": null,
            "max_width": null,
            "min_height": null,
            "min_width": null,
            "object_fit": null,
            "object_position": null,
            "order": null,
            "overflow": null,
            "overflow_x": null,
            "overflow_y": null,
            "padding": null,
            "right": null,
            "top": null,
            "visibility": null,
            "width": null
          }
        },
        "3c6a928751fd40b1b31e4cda73a4d88c": {
          "model_module": "@jupyter-widgets/controls",
          "model_name": "DescriptionStyleModel",
          "model_module_version": "1.5.0",
          "state": {
            "_model_module": "@jupyter-widgets/controls",
            "_model_module_version": "1.5.0",
            "_model_name": "DescriptionStyleModel",
            "_view_count": null,
            "_view_module": "@jupyter-widgets/base",
            "_view_module_version": "1.2.0",
            "_view_name": "StyleView",
            "description_width": ""
          }
        },
        "a85bc22934cb45e8b2c1fac548a9f2cd": {
          "model_module": "@jupyter-widgets/controls",
          "model_name": "HBoxModel",
          "model_module_version": "1.5.0",
          "state": {
            "_dom_classes": [],
            "_model_module": "@jupyter-widgets/controls",
            "_model_module_version": "1.5.0",
            "_model_name": "HBoxModel",
            "_view_count": null,
            "_view_module": "@jupyter-widgets/controls",
            "_view_module_version": "1.5.0",
            "_view_name": "HBoxView",
            "box_style": "",
            "children": [
              "IPY_MODEL_e00004b9bd5743a78bf554cbcc978ccd",
              "IPY_MODEL_53135899dd4b48d2b3d57141bb54a3d5",
              "IPY_MODEL_9391a3240afe492281b1a72cf74e5921"
            ],
            "layout": "IPY_MODEL_358dd4800ff84ca09fb782006eb89955"
          }
        },
        "e00004b9bd5743a78bf554cbcc978ccd": {
          "model_module": "@jupyter-widgets/controls",
          "model_name": "HTMLModel",
          "model_module_version": "1.5.0",
          "state": {
            "_dom_classes": [],
            "_model_module": "@jupyter-widgets/controls",
            "_model_module_version": "1.5.0",
            "_model_name": "HTMLModel",
            "_view_count": null,
            "_view_module": "@jupyter-widgets/controls",
            "_view_module_version": "1.5.0",
            "_view_name": "HTMLView",
            "description": "",
            "description_tooltip": null,
            "layout": "IPY_MODEL_63155792ce9d488b93dd04cf2fbf3eb6",
            "placeholder": "​",
            "style": "IPY_MODEL_1d8f8779f1f0416b9fde2438e97cec51",
            "value": "Sub-Loop: 100%"
          }
        },
        "53135899dd4b48d2b3d57141bb54a3d5": {
          "model_module": "@jupyter-widgets/controls",
          "model_name": "FloatProgressModel",
          "model_module_version": "1.5.0",
          "state": {
            "_dom_classes": [],
            "_model_module": "@jupyter-widgets/controls",
            "_model_module_version": "1.5.0",
            "_model_name": "FloatProgressModel",
            "_view_count": null,
            "_view_module": "@jupyter-widgets/controls",
            "_view_module_version": "1.5.0",
            "_view_name": "ProgressView",
            "bar_style": "",
            "description": "",
            "description_tooltip": null,
            "layout": "IPY_MODEL_ef0b4d549885463585b6380e8ee068d2",
            "max": 4,
            "min": 0,
            "orientation": "horizontal",
            "style": "IPY_MODEL_908320a3410f49ddb65b49506bbd994e",
            "value": 4
          }
        },
        "9391a3240afe492281b1a72cf74e5921": {
          "model_module": "@jupyter-widgets/controls",
          "model_name": "HTMLModel",
          "model_module_version": "1.5.0",
          "state": {
            "_dom_classes": [],
            "_model_module": "@jupyter-widgets/controls",
            "_model_module_version": "1.5.0",
            "_model_name": "HTMLModel",
            "_view_count": null,
            "_view_module": "@jupyter-widgets/controls",
            "_view_module_version": "1.5.0",
            "_view_name": "HTMLView",
            "description": "",
            "description_tooltip": null,
            "layout": "IPY_MODEL_48f3aaf7a3fd476fb9263f3d3407e5e7",
            "placeholder": "​",
            "style": "IPY_MODEL_f6fc3cfb30344667845cd34da103303d",
            "value": " 4/4 [00:33&lt;00:00,  8.27s/it]"
          }
        },
        "358dd4800ff84ca09fb782006eb89955": {
          "model_module": "@jupyter-widgets/base",
          "model_name": "LayoutModel",
          "model_module_version": "1.2.0",
          "state": {
            "_model_module": "@jupyter-widgets/base",
            "_model_module_version": "1.2.0",
            "_model_name": "LayoutModel",
            "_view_count": null,
            "_view_module": "@jupyter-widgets/base",
            "_view_module_version": "1.2.0",
            "_view_name": "LayoutView",
            "align_content": null,
            "align_items": null,
            "align_self": null,
            "border": null,
            "bottom": null,
            "display": null,
            "flex": null,
            "flex_flow": null,
            "grid_area": null,
            "grid_auto_columns": null,
            "grid_auto_flow": null,
            "grid_auto_rows": null,
            "grid_column": null,
            "grid_gap": null,
            "grid_row": null,
            "grid_template_areas": null,
            "grid_template_columns": null,
            "grid_template_rows": null,
            "height": null,
            "justify_content": null,
            "justify_items": null,
            "left": null,
            "margin": null,
            "max_height": null,
            "max_width": null,
            "min_height": null,
            "min_width": null,
            "object_fit": null,
            "object_position": null,
            "order": null,
            "overflow": null,
            "overflow_x": null,
            "overflow_y": null,
            "padding": null,
            "right": null,
            "top": null,
            "visibility": null,
            "width": null
          }
        },
        "63155792ce9d488b93dd04cf2fbf3eb6": {
          "model_module": "@jupyter-widgets/base",
          "model_name": "LayoutModel",
          "model_module_version": "1.2.0",
          "state": {
            "_model_module": "@jupyter-widgets/base",
            "_model_module_version": "1.2.0",
            "_model_name": "LayoutModel",
            "_view_count": null,
            "_view_module": "@jupyter-widgets/base",
            "_view_module_version": "1.2.0",
            "_view_name": "LayoutView",
            "align_content": null,
            "align_items": null,
            "align_self": null,
            "border": null,
            "bottom": null,
            "display": null,
            "flex": null,
            "flex_flow": null,
            "grid_area": null,
            "grid_auto_columns": null,
            "grid_auto_flow": null,
            "grid_auto_rows": null,
            "grid_column": null,
            "grid_gap": null,
            "grid_row": null,
            "grid_template_areas": null,
            "grid_template_columns": null,
            "grid_template_rows": null,
            "height": null,
            "justify_content": null,
            "justify_items": null,
            "left": null,
            "margin": null,
            "max_height": null,
            "max_width": null,
            "min_height": null,
            "min_width": null,
            "object_fit": null,
            "object_position": null,
            "order": null,
            "overflow": null,
            "overflow_x": null,
            "overflow_y": null,
            "padding": null,
            "right": null,
            "top": null,
            "visibility": null,
            "width": null
          }
        },
        "1d8f8779f1f0416b9fde2438e97cec51": {
          "model_module": "@jupyter-widgets/controls",
          "model_name": "DescriptionStyleModel",
          "model_module_version": "1.5.0",
          "state": {
            "_model_module": "@jupyter-widgets/controls",
            "_model_module_version": "1.5.0",
            "_model_name": "DescriptionStyleModel",
            "_view_count": null,
            "_view_module": "@jupyter-widgets/base",
            "_view_module_version": "1.2.0",
            "_view_name": "StyleView",
            "description_width": ""
          }
        },
        "ef0b4d549885463585b6380e8ee068d2": {
          "model_module": "@jupyter-widgets/base",
          "model_name": "LayoutModel",
          "model_module_version": "1.2.0",
          "state": {
            "_model_module": "@jupyter-widgets/base",
            "_model_module_version": "1.2.0",
            "_model_name": "LayoutModel",
            "_view_count": null,
            "_view_module": "@jupyter-widgets/base",
            "_view_module_version": "1.2.0",
            "_view_name": "LayoutView",
            "align_content": null,
            "align_items": null,
            "align_self": null,
            "border": null,
            "bottom": null,
            "display": null,
            "flex": null,
            "flex_flow": null,
            "grid_area": null,
            "grid_auto_columns": null,
            "grid_auto_flow": null,
            "grid_auto_rows": null,
            "grid_column": null,
            "grid_gap": null,
            "grid_row": null,
            "grid_template_areas": null,
            "grid_template_columns": null,
            "grid_template_rows": null,
            "height": null,
            "justify_content": null,
            "justify_items": null,
            "left": null,
            "margin": null,
            "max_height": null,
            "max_width": null,
            "min_height": null,
            "min_width": null,
            "object_fit": null,
            "object_position": null,
            "order": null,
            "overflow": null,
            "overflow_x": null,
            "overflow_y": null,
            "padding": null,
            "right": null,
            "top": null,
            "visibility": null,
            "width": null
          }
        },
        "908320a3410f49ddb65b49506bbd994e": {
          "model_module": "@jupyter-widgets/controls",
          "model_name": "ProgressStyleModel",
          "model_module_version": "1.5.0",
          "state": {
            "_model_module": "@jupyter-widgets/controls",
            "_model_module_version": "1.5.0",
            "_model_name": "ProgressStyleModel",
            "_view_count": null,
            "_view_module": "@jupyter-widgets/base",
            "_view_module_version": "1.2.0",
            "_view_name": "StyleView",
            "bar_color": null,
            "description_width": ""
          }
        },
        "48f3aaf7a3fd476fb9263f3d3407e5e7": {
          "model_module": "@jupyter-widgets/base",
          "model_name": "LayoutModel",
          "model_module_version": "1.2.0",
          "state": {
            "_model_module": "@jupyter-widgets/base",
            "_model_module_version": "1.2.0",
            "_model_name": "LayoutModel",
            "_view_count": null,
            "_view_module": "@jupyter-widgets/base",
            "_view_module_version": "1.2.0",
            "_view_name": "LayoutView",
            "align_content": null,
            "align_items": null,
            "align_self": null,
            "border": null,
            "bottom": null,
            "display": null,
            "flex": null,
            "flex_flow": null,
            "grid_area": null,
            "grid_auto_columns": null,
            "grid_auto_flow": null,
            "grid_auto_rows": null,
            "grid_column": null,
            "grid_gap": null,
            "grid_row": null,
            "grid_template_areas": null,
            "grid_template_columns": null,
            "grid_template_rows": null,
            "height": null,
            "justify_content": null,
            "justify_items": null,
            "left": null,
            "margin": null,
            "max_height": null,
            "max_width": null,
            "min_height": null,
            "min_width": null,
            "object_fit": null,
            "object_position": null,
            "order": null,
            "overflow": null,
            "overflow_x": null,
            "overflow_y": null,
            "padding": null,
            "right": null,
            "top": null,
            "visibility": null,
            "width": null
          }
        },
        "f6fc3cfb30344667845cd34da103303d": {
          "model_module": "@jupyter-widgets/controls",
          "model_name": "DescriptionStyleModel",
          "model_module_version": "1.5.0",
          "state": {
            "_model_module": "@jupyter-widgets/controls",
            "_model_module_version": "1.5.0",
            "_model_name": "DescriptionStyleModel",
            "_view_count": null,
            "_view_module": "@jupyter-widgets/base",
            "_view_module_version": "1.2.0",
            "_view_name": "StyleView",
            "description_width": ""
          }
        },
        "302f3139595f439db6906f96884cbd60": {
          "model_module": "@jupyter-widgets/controls",
          "model_name": "HBoxModel",
          "model_module_version": "1.5.0",
          "state": {
            "_dom_classes": [],
            "_model_module": "@jupyter-widgets/controls",
            "_model_module_version": "1.5.0",
            "_model_name": "HBoxModel",
            "_view_count": null,
            "_view_module": "@jupyter-widgets/controls",
            "_view_module_version": "1.5.0",
            "_view_name": "HBoxView",
            "box_style": "",
            "children": [
              "IPY_MODEL_0eae747612724cf3bda870146370a5d1",
              "IPY_MODEL_7be92591235248568292ceade9bf53e0",
              "IPY_MODEL_02cb52215675492380530c651a1a45d0"
            ],
            "layout": "IPY_MODEL_2d08522b16624c8398462789f8f6ed32"
          }
        },
        "0eae747612724cf3bda870146370a5d1": {
          "model_module": "@jupyter-widgets/controls",
          "model_name": "HTMLModel",
          "model_module_version": "1.5.0",
          "state": {
            "_dom_classes": [],
            "_model_module": "@jupyter-widgets/controls",
            "_model_module_version": "1.5.0",
            "_model_name": "HTMLModel",
            "_view_count": null,
            "_view_module": "@jupyter-widgets/controls",
            "_view_module_version": "1.5.0",
            "_view_name": "HTMLView",
            "description": "",
            "description_tooltip": null,
            "layout": "IPY_MODEL_a7f1ba37f59842c1a764e477197c0ac1",
            "placeholder": "​",
            "style": "IPY_MODEL_dcdda4899d064b8897b533987e89b58e",
            "value": "Sub-Loop: 100%"
          }
        },
        "7be92591235248568292ceade9bf53e0": {
          "model_module": "@jupyter-widgets/controls",
          "model_name": "FloatProgressModel",
          "model_module_version": "1.5.0",
          "state": {
            "_dom_classes": [],
            "_model_module": "@jupyter-widgets/controls",
            "_model_module_version": "1.5.0",
            "_model_name": "FloatProgressModel",
            "_view_count": null,
            "_view_module": "@jupyter-widgets/controls",
            "_view_module_version": "1.5.0",
            "_view_name": "ProgressView",
            "bar_style": "",
            "description": "",
            "description_tooltip": null,
            "layout": "IPY_MODEL_974b21b178244c509de13214e60ddf3f",
            "max": 4,
            "min": 0,
            "orientation": "horizontal",
            "style": "IPY_MODEL_5403eb206aab420c9aea6c9a19cb656f",
            "value": 4
          }
        },
        "02cb52215675492380530c651a1a45d0": {
          "model_module": "@jupyter-widgets/controls",
          "model_name": "HTMLModel",
          "model_module_version": "1.5.0",
          "state": {
            "_dom_classes": [],
            "_model_module": "@jupyter-widgets/controls",
            "_model_module_version": "1.5.0",
            "_model_name": "HTMLModel",
            "_view_count": null,
            "_view_module": "@jupyter-widgets/controls",
            "_view_module_version": "1.5.0",
            "_view_name": "HTMLView",
            "description": "",
            "description_tooltip": null,
            "layout": "IPY_MODEL_5e399f125c7145a494d1c53b1ac89677",
            "placeholder": "​",
            "style": "IPY_MODEL_6427c8fe64844c1aba69f4b299a39b1f",
            "value": " 4/4 [00:39&lt;00:00, 11.72s/it]"
          }
        },
        "2d08522b16624c8398462789f8f6ed32": {
          "model_module": "@jupyter-widgets/base",
          "model_name": "LayoutModel",
          "model_module_version": "1.2.0",
          "state": {
            "_model_module": "@jupyter-widgets/base",
            "_model_module_version": "1.2.0",
            "_model_name": "LayoutModel",
            "_view_count": null,
            "_view_module": "@jupyter-widgets/base",
            "_view_module_version": "1.2.0",
            "_view_name": "LayoutView",
            "align_content": null,
            "align_items": null,
            "align_self": null,
            "border": null,
            "bottom": null,
            "display": null,
            "flex": null,
            "flex_flow": null,
            "grid_area": null,
            "grid_auto_columns": null,
            "grid_auto_flow": null,
            "grid_auto_rows": null,
            "grid_column": null,
            "grid_gap": null,
            "grid_row": null,
            "grid_template_areas": null,
            "grid_template_columns": null,
            "grid_template_rows": null,
            "height": null,
            "justify_content": null,
            "justify_items": null,
            "left": null,
            "margin": null,
            "max_height": null,
            "max_width": null,
            "min_height": null,
            "min_width": null,
            "object_fit": null,
            "object_position": null,
            "order": null,
            "overflow": null,
            "overflow_x": null,
            "overflow_y": null,
            "padding": null,
            "right": null,
            "top": null,
            "visibility": null,
            "width": null
          }
        },
        "a7f1ba37f59842c1a764e477197c0ac1": {
          "model_module": "@jupyter-widgets/base",
          "model_name": "LayoutModel",
          "model_module_version": "1.2.0",
          "state": {
            "_model_module": "@jupyter-widgets/base",
            "_model_module_version": "1.2.0",
            "_model_name": "LayoutModel",
            "_view_count": null,
            "_view_module": "@jupyter-widgets/base",
            "_view_module_version": "1.2.0",
            "_view_name": "LayoutView",
            "align_content": null,
            "align_items": null,
            "align_self": null,
            "border": null,
            "bottom": null,
            "display": null,
            "flex": null,
            "flex_flow": null,
            "grid_area": null,
            "grid_auto_columns": null,
            "grid_auto_flow": null,
            "grid_auto_rows": null,
            "grid_column": null,
            "grid_gap": null,
            "grid_row": null,
            "grid_template_areas": null,
            "grid_template_columns": null,
            "grid_template_rows": null,
            "height": null,
            "justify_content": null,
            "justify_items": null,
            "left": null,
            "margin": null,
            "max_height": null,
            "max_width": null,
            "min_height": null,
            "min_width": null,
            "object_fit": null,
            "object_position": null,
            "order": null,
            "overflow": null,
            "overflow_x": null,
            "overflow_y": null,
            "padding": null,
            "right": null,
            "top": null,
            "visibility": null,
            "width": null
          }
        },
        "dcdda4899d064b8897b533987e89b58e": {
          "model_module": "@jupyter-widgets/controls",
          "model_name": "DescriptionStyleModel",
          "model_module_version": "1.5.0",
          "state": {
            "_model_module": "@jupyter-widgets/controls",
            "_model_module_version": "1.5.0",
            "_model_name": "DescriptionStyleModel",
            "_view_count": null,
            "_view_module": "@jupyter-widgets/base",
            "_view_module_version": "1.2.0",
            "_view_name": "StyleView",
            "description_width": ""
          }
        },
        "974b21b178244c509de13214e60ddf3f": {
          "model_module": "@jupyter-widgets/base",
          "model_name": "LayoutModel",
          "model_module_version": "1.2.0",
          "state": {
            "_model_module": "@jupyter-widgets/base",
            "_model_module_version": "1.2.0",
            "_model_name": "LayoutModel",
            "_view_count": null,
            "_view_module": "@jupyter-widgets/base",
            "_view_module_version": "1.2.0",
            "_view_name": "LayoutView",
            "align_content": null,
            "align_items": null,
            "align_self": null,
            "border": null,
            "bottom": null,
            "display": null,
            "flex": null,
            "flex_flow": null,
            "grid_area": null,
            "grid_auto_columns": null,
            "grid_auto_flow": null,
            "grid_auto_rows": null,
            "grid_column": null,
            "grid_gap": null,
            "grid_row": null,
            "grid_template_areas": null,
            "grid_template_columns": null,
            "grid_template_rows": null,
            "height": null,
            "justify_content": null,
            "justify_items": null,
            "left": null,
            "margin": null,
            "max_height": null,
            "max_width": null,
            "min_height": null,
            "min_width": null,
            "object_fit": null,
            "object_position": null,
            "order": null,
            "overflow": null,
            "overflow_x": null,
            "overflow_y": null,
            "padding": null,
            "right": null,
            "top": null,
            "visibility": null,
            "width": null
          }
        },
        "5403eb206aab420c9aea6c9a19cb656f": {
          "model_module": "@jupyter-widgets/controls",
          "model_name": "ProgressStyleModel",
          "model_module_version": "1.5.0",
          "state": {
            "_model_module": "@jupyter-widgets/controls",
            "_model_module_version": "1.5.0",
            "_model_name": "ProgressStyleModel",
            "_view_count": null,
            "_view_module": "@jupyter-widgets/base",
            "_view_module_version": "1.2.0",
            "_view_name": "StyleView",
            "bar_color": null,
            "description_width": ""
          }
        },
        "5e399f125c7145a494d1c53b1ac89677": {
          "model_module": "@jupyter-widgets/base",
          "model_name": "LayoutModel",
          "model_module_version": "1.2.0",
          "state": {
            "_model_module": "@jupyter-widgets/base",
            "_model_module_version": "1.2.0",
            "_model_name": "LayoutModel",
            "_view_count": null,
            "_view_module": "@jupyter-widgets/base",
            "_view_module_version": "1.2.0",
            "_view_name": "LayoutView",
            "align_content": null,
            "align_items": null,
            "align_self": null,
            "border": null,
            "bottom": null,
            "display": null,
            "flex": null,
            "flex_flow": null,
            "grid_area": null,
            "grid_auto_columns": null,
            "grid_auto_flow": null,
            "grid_auto_rows": null,
            "grid_column": null,
            "grid_gap": null,
            "grid_row": null,
            "grid_template_areas": null,
            "grid_template_columns": null,
            "grid_template_rows": null,
            "height": null,
            "justify_content": null,
            "justify_items": null,
            "left": null,
            "margin": null,
            "max_height": null,
            "max_width": null,
            "min_height": null,
            "min_width": null,
            "object_fit": null,
            "object_position": null,
            "order": null,
            "overflow": null,
            "overflow_x": null,
            "overflow_y": null,
            "padding": null,
            "right": null,
            "top": null,
            "visibility": null,
            "width": null
          }
        },
        "6427c8fe64844c1aba69f4b299a39b1f": {
          "model_module": "@jupyter-widgets/controls",
          "model_name": "DescriptionStyleModel",
          "model_module_version": "1.5.0",
          "state": {
            "_model_module": "@jupyter-widgets/controls",
            "_model_module_version": "1.5.0",
            "_model_name": "DescriptionStyleModel",
            "_view_count": null,
            "_view_module": "@jupyter-widgets/base",
            "_view_module_version": "1.2.0",
            "_view_name": "StyleView",
            "description_width": ""
          }
        },
        "9916aef56f17477a93a63e534d85f28f": {
          "model_module": "@jupyter-widgets/controls",
          "model_name": "HBoxModel",
          "model_module_version": "1.5.0",
          "state": {
            "_dom_classes": [],
            "_model_module": "@jupyter-widgets/controls",
            "_model_module_version": "1.5.0",
            "_model_name": "HBoxModel",
            "_view_count": null,
            "_view_module": "@jupyter-widgets/controls",
            "_view_module_version": "1.5.0",
            "_view_name": "HBoxView",
            "box_style": "",
            "children": [
              "IPY_MODEL_44a7d3626e8341358b090bd28e9abb58",
              "IPY_MODEL_f04b0287b572448d8af7265304b63ec5",
              "IPY_MODEL_f5b9efcc16454f859210e06b63c83554"
            ],
            "layout": "IPY_MODEL_b6c4314638144469ad35c1142a0e5141"
          }
        },
        "44a7d3626e8341358b090bd28e9abb58": {
          "model_module": "@jupyter-widgets/controls",
          "model_name": "HTMLModel",
          "model_module_version": "1.5.0",
          "state": {
            "_dom_classes": [],
            "_model_module": "@jupyter-widgets/controls",
            "_model_module_version": "1.5.0",
            "_model_name": "HTMLModel",
            "_view_count": null,
            "_view_module": "@jupyter-widgets/controls",
            "_view_module_version": "1.5.0",
            "_view_name": "HTMLView",
            "description": "",
            "description_tooltip": null,
            "layout": "IPY_MODEL_e22d84ed7e0745e386267f2e4add0d8e",
            "placeholder": "​",
            "style": "IPY_MODEL_706b0ae9fa5747ff9e9608fac5244ce0",
            "value": "Sub-Loop: 100%"
          }
        },
        "f04b0287b572448d8af7265304b63ec5": {
          "model_module": "@jupyter-widgets/controls",
          "model_name": "FloatProgressModel",
          "model_module_version": "1.5.0",
          "state": {
            "_dom_classes": [],
            "_model_module": "@jupyter-widgets/controls",
            "_model_module_version": "1.5.0",
            "_model_name": "FloatProgressModel",
            "_view_count": null,
            "_view_module": "@jupyter-widgets/controls",
            "_view_module_version": "1.5.0",
            "_view_name": "ProgressView",
            "bar_style": "",
            "description": "",
            "description_tooltip": null,
            "layout": "IPY_MODEL_92966fce372b4cac9b691d9f855c4b59",
            "max": 4,
            "min": 0,
            "orientation": "horizontal",
            "style": "IPY_MODEL_947264cbf2c844f9b3ca86e9f63d4be4",
            "value": 4
          }
        },
        "f5b9efcc16454f859210e06b63c83554": {
          "model_module": "@jupyter-widgets/controls",
          "model_name": "HTMLModel",
          "model_module_version": "1.5.0",
          "state": {
            "_dom_classes": [],
            "_model_module": "@jupyter-widgets/controls",
            "_model_module_version": "1.5.0",
            "_model_name": "HTMLModel",
            "_view_count": null,
            "_view_module": "@jupyter-widgets/controls",
            "_view_module_version": "1.5.0",
            "_view_name": "HTMLView",
            "description": "",
            "description_tooltip": null,
            "layout": "IPY_MODEL_cc737c73984148fe8a6a4bd6df454048",
            "placeholder": "​",
            "style": "IPY_MODEL_925b351e0a324706b2a984fe712ad563",
            "value": " 4/4 [00:31&lt;00:00,  8.19s/it]"
          }
        },
        "b6c4314638144469ad35c1142a0e5141": {
          "model_module": "@jupyter-widgets/base",
          "model_name": "LayoutModel",
          "model_module_version": "1.2.0",
          "state": {
            "_model_module": "@jupyter-widgets/base",
            "_model_module_version": "1.2.0",
            "_model_name": "LayoutModel",
            "_view_count": null,
            "_view_module": "@jupyter-widgets/base",
            "_view_module_version": "1.2.0",
            "_view_name": "LayoutView",
            "align_content": null,
            "align_items": null,
            "align_self": null,
            "border": null,
            "bottom": null,
            "display": null,
            "flex": null,
            "flex_flow": null,
            "grid_area": null,
            "grid_auto_columns": null,
            "grid_auto_flow": null,
            "grid_auto_rows": null,
            "grid_column": null,
            "grid_gap": null,
            "grid_row": null,
            "grid_template_areas": null,
            "grid_template_columns": null,
            "grid_template_rows": null,
            "height": null,
            "justify_content": null,
            "justify_items": null,
            "left": null,
            "margin": null,
            "max_height": null,
            "max_width": null,
            "min_height": null,
            "min_width": null,
            "object_fit": null,
            "object_position": null,
            "order": null,
            "overflow": null,
            "overflow_x": null,
            "overflow_y": null,
            "padding": null,
            "right": null,
            "top": null,
            "visibility": null,
            "width": null
          }
        },
        "e22d84ed7e0745e386267f2e4add0d8e": {
          "model_module": "@jupyter-widgets/base",
          "model_name": "LayoutModel",
          "model_module_version": "1.2.0",
          "state": {
            "_model_module": "@jupyter-widgets/base",
            "_model_module_version": "1.2.0",
            "_model_name": "LayoutModel",
            "_view_count": null,
            "_view_module": "@jupyter-widgets/base",
            "_view_module_version": "1.2.0",
            "_view_name": "LayoutView",
            "align_content": null,
            "align_items": null,
            "align_self": null,
            "border": null,
            "bottom": null,
            "display": null,
            "flex": null,
            "flex_flow": null,
            "grid_area": null,
            "grid_auto_columns": null,
            "grid_auto_flow": null,
            "grid_auto_rows": null,
            "grid_column": null,
            "grid_gap": null,
            "grid_row": null,
            "grid_template_areas": null,
            "grid_template_columns": null,
            "grid_template_rows": null,
            "height": null,
            "justify_content": null,
            "justify_items": null,
            "left": null,
            "margin": null,
            "max_height": null,
            "max_width": null,
            "min_height": null,
            "min_width": null,
            "object_fit": null,
            "object_position": null,
            "order": null,
            "overflow": null,
            "overflow_x": null,
            "overflow_y": null,
            "padding": null,
            "right": null,
            "top": null,
            "visibility": null,
            "width": null
          }
        },
        "706b0ae9fa5747ff9e9608fac5244ce0": {
          "model_module": "@jupyter-widgets/controls",
          "model_name": "DescriptionStyleModel",
          "model_module_version": "1.5.0",
          "state": {
            "_model_module": "@jupyter-widgets/controls",
            "_model_module_version": "1.5.0",
            "_model_name": "DescriptionStyleModel",
            "_view_count": null,
            "_view_module": "@jupyter-widgets/base",
            "_view_module_version": "1.2.0",
            "_view_name": "StyleView",
            "description_width": ""
          }
        },
        "92966fce372b4cac9b691d9f855c4b59": {
          "model_module": "@jupyter-widgets/base",
          "model_name": "LayoutModel",
          "model_module_version": "1.2.0",
          "state": {
            "_model_module": "@jupyter-widgets/base",
            "_model_module_version": "1.2.0",
            "_model_name": "LayoutModel",
            "_view_count": null,
            "_view_module": "@jupyter-widgets/base",
            "_view_module_version": "1.2.0",
            "_view_name": "LayoutView",
            "align_content": null,
            "align_items": null,
            "align_self": null,
            "border": null,
            "bottom": null,
            "display": null,
            "flex": null,
            "flex_flow": null,
            "grid_area": null,
            "grid_auto_columns": null,
            "grid_auto_flow": null,
            "grid_auto_rows": null,
            "grid_column": null,
            "grid_gap": null,
            "grid_row": null,
            "grid_template_areas": null,
            "grid_template_columns": null,
            "grid_template_rows": null,
            "height": null,
            "justify_content": null,
            "justify_items": null,
            "left": null,
            "margin": null,
            "max_height": null,
            "max_width": null,
            "min_height": null,
            "min_width": null,
            "object_fit": null,
            "object_position": null,
            "order": null,
            "overflow": null,
            "overflow_x": null,
            "overflow_y": null,
            "padding": null,
            "right": null,
            "top": null,
            "visibility": null,
            "width": null
          }
        },
        "947264cbf2c844f9b3ca86e9f63d4be4": {
          "model_module": "@jupyter-widgets/controls",
          "model_name": "ProgressStyleModel",
          "model_module_version": "1.5.0",
          "state": {
            "_model_module": "@jupyter-widgets/controls",
            "_model_module_version": "1.5.0",
            "_model_name": "ProgressStyleModel",
            "_view_count": null,
            "_view_module": "@jupyter-widgets/base",
            "_view_module_version": "1.2.0",
            "_view_name": "StyleView",
            "bar_color": null,
            "description_width": ""
          }
        },
        "cc737c73984148fe8a6a4bd6df454048": {
          "model_module": "@jupyter-widgets/base",
          "model_name": "LayoutModel",
          "model_module_version": "1.2.0",
          "state": {
            "_model_module": "@jupyter-widgets/base",
            "_model_module_version": "1.2.0",
            "_model_name": "LayoutModel",
            "_view_count": null,
            "_view_module": "@jupyter-widgets/base",
            "_view_module_version": "1.2.0",
            "_view_name": "LayoutView",
            "align_content": null,
            "align_items": null,
            "align_self": null,
            "border": null,
            "bottom": null,
            "display": null,
            "flex": null,
            "flex_flow": null,
            "grid_area": null,
            "grid_auto_columns": null,
            "grid_auto_flow": null,
            "grid_auto_rows": null,
            "grid_column": null,
            "grid_gap": null,
            "grid_row": null,
            "grid_template_areas": null,
            "grid_template_columns": null,
            "grid_template_rows": null,
            "height": null,
            "justify_content": null,
            "justify_items": null,
            "left": null,
            "margin": null,
            "max_height": null,
            "max_width": null,
            "min_height": null,
            "min_width": null,
            "object_fit": null,
            "object_position": null,
            "order": null,
            "overflow": null,
            "overflow_x": null,
            "overflow_y": null,
            "padding": null,
            "right": null,
            "top": null,
            "visibility": null,
            "width": null
          }
        },
        "925b351e0a324706b2a984fe712ad563": {
          "model_module": "@jupyter-widgets/controls",
          "model_name": "DescriptionStyleModel",
          "model_module_version": "1.5.0",
          "state": {
            "_model_module": "@jupyter-widgets/controls",
            "_model_module_version": "1.5.0",
            "_model_name": "DescriptionStyleModel",
            "_view_count": null,
            "_view_module": "@jupyter-widgets/base",
            "_view_module_version": "1.2.0",
            "_view_name": "StyleView",
            "description_width": ""
          }
        }
      }
    }
  },
  "nbformat": 4,
  "nbformat_minor": 0
}